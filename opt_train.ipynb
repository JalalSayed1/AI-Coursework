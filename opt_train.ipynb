{
  "cells": [
    {
      "cell_type": "markdown",
      "metadata": {
        "colab_type": "text",
        "id": "view-in-github"
      },
      "source": [
        "<a href=\"https://colab.research.google.com/github/JalalSayed1/AI-Coursework/blob/master/opt_train.ipynb\" target=\"_parent\"><img src=\"https://colab.research.google.com/assets/colab-badge.svg\" alt=\"Open In Colab\"/></a>"
      ]
    },
    {
      "cell_type": "markdown",
      "id": "anticipated-consumer",
      "metadata": {
        "id": "anticipated-consumer"
      },
      "source": [
        "In this assignment, we are going to implement see if we can optimally select a subset of training instances for supervised learning."
      ]
    },
    {
      "cell_type": "code",
      "execution_count": 1,
      "metadata": {},
      "outputs": [
        {
          "name": "stdout",
          "output_type": "stream",
          "text": [
            "Defaulting to user installation because normal site-packages is not writeable\n",
            "Requirement already satisfied: scikit-learn in /home/jalal/.local/lib/python3.10/site-packages (1.3.2)\n",
            "Requirement already satisfied: scipy in /home/jalal/.local/lib/python3.10/site-packages (1.11.3)\n",
            "Requirement already satisfied: matplotlib in /home/jalal/.local/lib/python3.10/site-packages (3.8.1)\n",
            "Requirement already satisfied: threadpoolctl>=2.0.0 in /home/jalal/.local/lib/python3.10/site-packages (from scikit-learn) (3.2.0)\n",
            "Requirement already satisfied: numpy<2.0,>=1.17.3 in /home/jalal/.local/lib/python3.10/site-packages (from scikit-learn) (1.26.1)\n",
            "Requirement already satisfied: joblib>=1.1.1 in /home/jalal/.local/lib/python3.10/site-packages (from scikit-learn) (1.3.2)\n",
            "Requirement already satisfied: pillow>=8 in /usr/lib/python3/dist-packages (from matplotlib) (9.0.1)\n",
            "Requirement already satisfied: pyparsing>=2.3.1 in /usr/lib/python3/dist-packages (from matplotlib) (2.4.7)\n",
            "Requirement already satisfied: fonttools>=4.22.0 in /home/jalal/.local/lib/python3.10/site-packages (from matplotlib) (4.43.1)\n",
            "Requirement already satisfied: packaging>=20.0 in /home/jalal/.local/lib/python3.10/site-packages (from matplotlib) (23.2)\n",
            "Requirement already satisfied: contourpy>=1.0.1 in /home/jalal/.local/lib/python3.10/site-packages (from matplotlib) (1.1.1)\n",
            "Requirement already satisfied: kiwisolver>=1.3.1 in /home/jalal/.local/lib/python3.10/site-packages (from matplotlib) (1.4.5)\n",
            "Requirement already satisfied: cycler>=0.10 in /home/jalal/.local/lib/python3.10/site-packages (from matplotlib) (0.12.1)\n",
            "Requirement already satisfied: python-dateutil>=2.7 in /home/jalal/.local/lib/python3.10/site-packages (from matplotlib) (2.8.2)\n",
            "Requirement already satisfied: six>=1.5 in /usr/lib/python3/dist-packages (from python-dateutil>=2.7->matplotlib) (1.16.0)\n",
            "Note: you may need to restart the kernel to use updated packages.\n"
          ]
        }
      ],
      "source": [
        "pip install -U scikit-learn scipy matplotlib"
      ]
    },
    {
      "cell_type": "code",
      "execution_count": 2,
      "id": "higher-nebraska",
      "metadata": {
        "id": "higher-nebraska"
      },
      "outputs": [
        {
          "name": "stderr",
          "output_type": "stream",
          "text": [
            "2023-11-13 10:37:56.963707: I tensorflow/core/util/port.cc:111] oneDNN custom operations are on. You may see slightly different numerical results due to floating-point round-off errors from different computation orders. To turn them off, set the environment variable `TF_ENABLE_ONEDNN_OPTS=0`.\n",
            "2023-11-13 10:37:56.965291: I tensorflow/tsl/cuda/cudart_stub.cc:28] Could not find cuda drivers on your machine, GPU will not be used.\n",
            "2023-11-13 10:37:56.997946: E tensorflow/compiler/xla/stream_executor/cuda/cuda_dnn.cc:9342] Unable to register cuDNN factory: Attempting to register factory for plugin cuDNN when one has already been registered\n",
            "2023-11-13 10:37:56.997991: E tensorflow/compiler/xla/stream_executor/cuda/cuda_fft.cc:609] Unable to register cuFFT factory: Attempting to register factory for plugin cuFFT when one has already been registered\n",
            "2023-11-13 10:37:56.998012: E tensorflow/compiler/xla/stream_executor/cuda/cuda_blas.cc:1518] Unable to register cuBLAS factory: Attempting to register factory for plugin cuBLAS when one has already been registered\n",
            "2023-11-13 10:37:57.004724: I tensorflow/tsl/cuda/cudart_stub.cc:28] Could not find cuda drivers on your machine, GPU will not be used.\n",
            "2023-11-13 10:37:57.005354: I tensorflow/core/platform/cpu_feature_guard.cc:182] This TensorFlow binary is optimized to use available CPU instructions in performance-critical operations.\n",
            "To enable the following instructions: AVX2 AVX512F AVX512_VNNI FMA, in other operations, rebuild TensorFlow with the appropriate compiler flags.\n",
            "2023-11-13 10:37:57.852176: W tensorflow/compiler/tf2tensorrt/utils/py_utils.cc:38] TF-TRT Warning: Could not find TensorRT\n"
          ]
        }
      ],
      "source": [
        "import numpy as np\n",
        "from tensorflow import keras\n",
        "from tensorflow.keras import layers"
      ]
    },
    {
      "cell_type": "markdown",
      "id": "daily-internship",
      "metadata": {
        "id": "daily-internship"
      },
      "source": [
        "We are going to work with the MNIST dataset, a popular dataset for hand-written digit recognition. Here we load the datatset."
      ]
    },
    {
      "cell_type": "code",
      "execution_count": 3,
      "id": "palestinian-texas",
      "metadata": {
        "colab": {
          "base_uri": "https://localhost:8080/"
        },
        "id": "palestinian-texas",
        "outputId": "add68549-ff74-4c9e-b2f2-7199a243f486"
      },
      "outputs": [
        {
          "name": "stdout",
          "output_type": "stream",
          "text": [
            "x_train shape: (60000, 28, 28, 1)\n",
            "Loaded 60000 train samples\n",
            "Loaded 10000 test samples\n"
          ]
        }
      ],
      "source": [
        "# Model / data parameters\n",
        "num_classes = 10\n",
        "input_shape = (28, 28, 1) # 28x28 pixel images with 1 colour channel (grayscale)\n",
        "\n",
        "# Load the data and split it between train and test sets\n",
        "# x = images, y = labels\n",
        "(x_train, y_train), (x_test, y_test) = keras.datasets.mnist.load_data()\n",
        "\n",
        "# Scale images to the [0, 1] range\n",
        "x_train = x_train.astype(\"float32\") / 255 # 0-255 to 0-1\n",
        "x_test = x_test.astype(\"float32\") / 255\n",
        "# Make sure images have shape (28, 28, 1)\n",
        "x_train = np.expand_dims(x_train, -1) # -1 means last dimension\n",
        "x_test = np.expand_dims(x_test, -1)\n",
        "print(\"x_train shape:\", x_train.shape)\n",
        "print(\"Loaded {} train samples\".format(x_train.shape[0]))\n",
        "print(\"Loaded {} test samples\".format(x_test.shape[0]))"
      ]
    },
    {
      "cell_type": "markdown",
      "id": "empty-desert",
      "metadata": {
        "id": "empty-desert"
      },
      "source": [
        "Now corrupt the labels with common types of mistakes. The variable 'noise_probability' controls the amount of errors introduced."
      ]
    },
    {
      "cell_type": "code",
      "execution_count": 4,
      "id": "champion-technician",
      "metadata": {
        "colab": {
          "base_uri": "https://localhost:8080/"
        },
        "id": "champion-technician",
        "outputId": "76618bb0-b52f-4bfb-b5ce-8b3cf2eb9a37"
      },
      "outputs": [
        {
          "name": "stdout",
          "output_type": "stream",
          "text": [
            "Corruptions: {'5->9': 649, '0->2': 708, '4->2': 566, '1->9': 654, '9->2': 691, '1->2': 652, '4->6': 590, '3->5': 717, '5->2': 612, '3->2': 712, '7->0': 642, '2->0': 695, '6->2': 697, '9->5': 715, '4->9': 591, '0->9': 678, '1->6': 719, '2->5': 687, '3->8': 756, '2->8': 670, '7->9': 588, '9->8': 689, '0->6': 660, '5->0': 621, '7->6': 645, '1->0': 741, '8->2': 698, '9->0': 724, '8->3': 688, '5->8': 661, '4->5': 587, '8->9': 709, '1->5': 605, '6->0': 696, '6->8': 669, '6->3': 709, '8->0': 695, '9->6': 666, '7->3': 649, '3->9': 686, '1->8': 696, '1->3': 637, '0->3': 688, '2->3': 712, '3->6': 706, '0->8': 690, '0->5': 719, '7->8': 605, '9->3': 676, '6->9': 658, '6->5': 672, '3->0': 705, '7->5': 639, '4->3': 604, '5->6': 651, '8->5': 692, '2->6': 684, '2->9': 731, '4->8': 553, '7->2': 631, '4->0': 584, '5->3': 613, '8->6': 658}\n",
            "Corrupted indexes: [0, 1, 2, 3, 4, 6, 9, 10, 11, 12]\n"
          ]
        }
      ],
      "source": [
        "import random\n",
        "noise_probability = 0.7\n",
        "\n",
        "def corrupt_label(y, err):\n",
        "    found = np.where(err == y)\n",
        "    if len(found) > 0:\n",
        "        # select an element at random (index != found)\n",
        "        noisy_label = random.choice(err)\n",
        "        while noisy_label == y:\n",
        "            noisy_label = random.choice(err)\n",
        "        return noisy_label\n",
        "    return y\n",
        "\n",
        "# We corrupt the MNIST data with some common mistakes, such as 3-->8, 8-->3, 1-->{4, 7}, 5-->6 etc.\n",
        "def corrupt_labels(y_train, noise_probability):\n",
        "    num_samples = y_train.shape[0]\n",
        "    err_es_1 = np.array([0, 2, 3, 5, 6, 8, 9])\n",
        "    err_es_2 = np.array([1, 4, 7])\n",
        "\n",
        "    corruptions = {}\n",
        "    corrupted_indexes = {}\n",
        "\n",
        "    for i in range(num_samples):\n",
        "        # generate a random number between 0 and 1:\n",
        "        p = random.random()\n",
        "\n",
        "        #! if p > noise_probability, then we do not corrupt the label?\n",
        "        if p < noise_probability:\n",
        "            y = y_train[i]\n",
        "            y_noisy = corrupt_label(y, err_es_1)\n",
        "            if y_noisy == y:\n",
        "                y_noisy = corrupt_label(y, err_es_2)\n",
        "\n",
        "            key = str(y_train[i]) + '->' + str(y_noisy)\n",
        "            corrupted_indexes[i] = i\n",
        "\n",
        "            if key in corruptions:\n",
        "                corruptions[key] += 1\n",
        "            else:\n",
        "                corruptions[key] = 0\n",
        "\n",
        "            y_train[i] = y_noisy\n",
        "\n",
        "    return corruptions, corrupted_indexes\n",
        "\n",
        "corruptions, corrupted_indexes = corrupt_labels(y_train, noise_probability)\n",
        "print (\"Corruptions: \" + str(corruptions))\n",
        "print (\"Corrupted indexes: {}\".format(list(corrupted_indexes.keys())[0:10]))\n"
      ]
    },
    {
      "cell_type": "code",
      "execution_count": 5,
      "id": "quality-gauge",
      "metadata": {
        "id": "quality-gauge"
      },
      "outputs": [],
      "source": [
        "# convert class vectors to binary class matrices\n",
        "y_train_onehot = keras.utils.to_categorical(y_train, num_classes)\n",
        "y_test_onehot = keras.utils.to_categorical(y_test, num_classes)"
      ]
    },
    {
      "cell_type": "markdown",
      "id": "fifth-celebrity",
      "metadata": {
        "id": "fifth-celebrity"
      },
      "source": [
        "Supervised (parametric) training with the (noisy) labeled examples. Note that this model is trained on the entire dataset (the value of the parameter pruned_indexes is null here, which means that we leave out no points), which is noisy (20% of the labels are corrupted). Now the question is: is this the best model that we can train or can we do better?"
      ]
    },
    {
      "cell_type": "code",
      "execution_count": 6,
      "id": "extreme-ethernet",
      "metadata": {
        "colab": {
          "base_uri": "https://localhost:8080/"
        },
        "id": "extreme-ethernet",
        "outputId": "ffd3c54a-09d5-4f13-9fb8-b59425c1c78e"
      },
      "outputs": [
        {
          "name": "stdout",
          "output_type": "stream",
          "text": [
            "Model: \"sequential\"\n",
            "_________________________________________________________________\n",
            " Layer (type)                Output Shape              Param #   \n",
            "=================================================================\n",
            " conv2d (Conv2D)             (None, 26, 26, 32)        320       \n",
            "                                                                 \n",
            " max_pooling2d (MaxPooling2  (None, 13, 13, 32)        0         \n",
            " D)                                                              \n",
            "                                                                 \n",
            " flatten (Flatten)           (None, 5408)              0         \n",
            "                                                                 \n",
            " dropout (Dropout)           (None, 5408)              0         \n",
            "                                                                 \n",
            " dense (Dense)               (None, 10)                54090     \n",
            "                                                                 \n",
            "=================================================================\n",
            "Total params: 54410 (212.54 KB)\n",
            "Trainable params: 54410 (212.54 KB)\n",
            "Non-trainable params: 0 (0.00 Byte)\n",
            "_________________________________________________________________\n"
          ]
        }
      ],
      "source": [
        "batch_size = 128\n",
        "epochs = 3 # very high epochs might overfit the model.\n",
        "validation_split=0.1\n",
        "\n",
        "\n",
        "model = keras.Sequential(\n",
        "    [\n",
        "        keras.Input(shape=input_shape),\n",
        "        layers.Conv2D(32, kernel_size=(3, 3), activation=\"relu\"),\n",
        "        layers.MaxPooling2D(pool_size=(2, 2)),\n",
        "        layers.Flatten(),\n",
        "        layers.Dropout(0.5),\n",
        "        layers.Dense(num_classes, activation=\"softmax\"),\n",
        "    ]\n",
        ")\n",
        "model.summary()\n",
        "model.compile(loss=\"categorical_crossentropy\", optimizer=\"adam\", metrics=[\"accuracy\"])\n",
        "\n",
        "def prune_points(x_train, y_train, pruned_indexes):\n",
        "    num_samples = x_train.shape[0] # = 60000\n",
        "    x_train_pruned = []\n",
        "    y_train_pruned = []\n",
        "    for i in range(num_samples):\n",
        "        if not i in pruned_indexes:\n",
        "            x_train_pruned.append(x_train[i])\n",
        "            y_train_pruned.append(y_train[i])\n",
        "\n",
        "    return np.array(x_train_pruned), np.array(y_train_pruned)\n",
        "\n",
        "def trainAndEvaluateModel(x_train, y_train, x_test, y_test, model, pruned_indexes):\n",
        "\n",
        "    if not pruned_indexes == None:\n",
        "        x_train_pruned, y_train_pruned = prune_points(x_train, y_train, pruned_indexes)\n",
        "    else:\n",
        "        x_train_pruned = x_train\n",
        "        y_train_pruned = y_train\n",
        "\n",
        "    # start training the model:\n",
        "    model.fit(x_train_pruned, y_train_pruned, batch_size=batch_size, epochs=epochs)\n",
        "    model.evaluate(x_test, y_test)\n",
        "    keras.backend.clear_session() # remove previous training weights\n"
      ]
    },
    {
      "cell_type": "markdown",
      "id": "indie-waterproof",
      "metadata": {
        "id": "indie-waterproof"
      },
      "source": [
        "And we call the following function to train a model on the entire dataset and evaluate it on the test set. The accuracy on the test set is quite good, but can we do better?"
      ]
    },
    {
      "cell_type": "code",
      "execution_count": 7,
      "id": "embedded-staff",
      "metadata": {
        "colab": {
          "base_uri": "https://localhost:8080/"
        },
        "id": "embedded-staff",
        "outputId": "a88bc645-fc02-40a7-d5a3-41e9e1d5ebb8"
      },
      "outputs": [
        {
          "name": "stdout",
          "output_type": "stream",
          "text": [
            "Epoch 1/3\n",
            "469/469 [==============================] - 6s 12ms/step - loss: 1.9959 - accuracy: 0.2444\n",
            "Epoch 2/3\n",
            "469/469 [==============================] - 5s 12ms/step - loss: 1.9512 - accuracy: 0.2701\n",
            "Epoch 3/3\n",
            "469/469 [==============================] - 6s 12ms/step - loss: 1.9421 - accuracy: 0.2756\n",
            "313/313 [==============================] - 0s 1ms/step - loss: 1.4034 - accuracy: 0.8968\n"
          ]
        }
      ],
      "source": [
        "trainAndEvaluateModel(x_train, y_train_onehot, x_test, y_test_onehot, model, None)"
      ]
    },
    {
      "cell_type": "markdown",
      "id": "structured-lithuania",
      "metadata": {
        "id": "structured-lithuania"
      },
      "source": [
        "You need to implement a subset selection function that when called will return a subset of instances which will be used to train the model. This setup ensures that you also pass in another dictionary which contains the indexes of the instances that you would not want to use while training the model, i.e., it should contain a list of indexes that you would decide to **leave out** for training.\n",
        "\n",
        "Here's the code and a sample implementation that returns a randomly chosen set of instances that you are to be left out. Since we chose 70% probability of label corruption (check the **noise_probability** parameter), we also select a subset where we leave out the same proportion of points. This is a baseline implementation and obviously you should aim to achieve better results than this."
      ]
    },
    {
      "cell_type": "code",
      "execution_count": 8,
      "id": "unique-operator",
      "metadata": {
        "id": "unique-operator"
      },
      "outputs": [],
      "source": [
        "# Here 'x_train', 'y_train' and model' are an unused parameters. But you may get better results by leveraging these.\n",
        "def baseLinePrunedSubsetMethod(x_train, y_train, model):\n",
        "    pruned_indexes = {}\n",
        "    num_samples = x_train.shape[0]\n",
        "    for i in range(num_samples):\n",
        "        p = random.random()\n",
        "\n",
        "        if p < noise_probability: # this is the global variable (only useful for this naive approach)\n",
        "            pruned_indexes[i] = i\n",
        "    return pruned_indexes"
      ]
    },
    {
      "cell_type": "markdown",
      "id": "stunning-steel",
      "metadata": {
        "id": "stunning-steel"
      },
      "source": [
        "Let's see how this naive baseline works."
      ]
    },
    {
      "cell_type": "code",
      "execution_count": 9,
      "id": "formed-refrigerator",
      "metadata": {
        "colab": {
          "base_uri": "https://localhost:8080/"
        },
        "id": "formed-refrigerator",
        "outputId": "234122b6-f927-40d9-a0de-38f4de226c5e"
      },
      "outputs": [
        {
          "name": "stdout",
          "output_type": "stream",
          "text": [
            "Epoch 1/3\n",
            "140/140 [==============================] - 2s 12ms/step - loss: 1.9315 - accuracy: 0.2803\n",
            "Epoch 2/3\n",
            "140/140 [==============================] - 2s 13ms/step - loss: 1.9208 - accuracy: 0.2822\n",
            "Epoch 3/3\n",
            "140/140 [==============================] - 2s 13ms/step - loss: 1.9129 - accuracy: 0.2830\n",
            "313/313 [==============================] - 0s 1ms/step - loss: 1.3795 - accuracy: 0.8929\n"
          ]
        }
      ],
      "source": [
        "pruned_indexes = baseLinePrunedSubsetMethod(x_train, y_train, model)\n",
        "# print (f\"pruned_indexes: {pruned_indexes}\")\n",
        "trainAndEvaluateModel(x_train, y_train_onehot, x_test, y_test_onehot, model, pruned_indexes)"
      ]
    },
    {
      "cell_type": "markdown",
      "id": "backed-cache",
      "metadata": {
        "id": "backed-cache"
      },
      "source": [
        "Let's now see if we had known what points were actually corrupted (more of a hypothetical unrealistic situation), does leaving out those points actually improve the model's effectiveness. It turns out that it does!"
      ]
    },
    {
      "cell_type": "code",
      "execution_count": 10,
      "id": "amino-orientation",
      "metadata": {
        "colab": {
          "base_uri": "https://localhost:8080/"
        },
        "id": "amino-orientation",
        "outputId": "db6011ba-9b80-4cc4-d030-97206836c785"
      },
      "outputs": [
        {
          "name": "stdout",
          "output_type": "stream",
          "text": [
            "Epoch 1/3\n",
            "141/141 [==============================] - 2s 12ms/step - loss: 0.3609 - accuracy: 0.9218\n",
            "Epoch 2/3\n",
            "141/141 [==============================] - 2s 13ms/step - loss: 0.1784 - accuracy: 0.9492\n",
            "Epoch 3/3\n",
            "141/141 [==============================] - 2s 13ms/step - loss: 0.1478 - accuracy: 0.9591\n",
            "313/313 [==============================] - 0s 1ms/step - loss: 0.1217 - accuracy: 0.9647\n"
          ]
        }
      ],
      "source": [
        "\n",
        "#! This keeps going up and up: bc we keep training the model on the same data. \n",
        "trainAndEvaluateModel(x_train, y_train_onehot, x_test, y_test_onehot, model, corrupted_indexes)"
      ]
    },
    {
      "cell_type": "markdown",
      "id": "bright-constitutional",
      "metadata": {
        "id": "bright-constitutional"
      },
      "source": [
        "Your task is to implement your own version of (say of name **myPrunedSubsetMethod** (which should take as arguments x_train, y_train, and the model). The function should return a dictionary of indexes that are to be left out. Plug your function in and evaluate the results. Write a thorough report on the methodology and analyse the results.\n",
        "\n",
        "Some hints:\n",
        "You can approach this as a discrete state space optimisation problem, where firstly you can define a \"selection batch size\" (this is not the same as training batch size), which decides which batch of instances you're going to leave out. For instance, if you are in a state where the training set is $X$, you may select (by some heuristics) which points you're gonna leave out (let that set be $\\delta \\subset X$) so that a child state becomes $X' = X - \\delta$. Similarly, if you choose a different $\\delta$ you get a different child state. You then need to train and evaluate (call the function *trainAndEvaluateModel*) to see if that child state led to an improvement or not.\n",
        "\n",
        "You are free to use any algorithm, e.g., simulated annealing, A* search, genetic algorithm etc. to implement this discrete state space optimisation."
      ]
    },
    {
      "cell_type": "code",
      "execution_count": 1,
      "metadata": {},
      "outputs": [],
      "source": [
        "loss_list = []\n",
        "acc_list = []"
      ]
    },
    {
      "cell_type": "code",
      "execution_count": 2,
      "metadata": {},
      "outputs": [
        {
          "name": "stderr",
          "output_type": "stream",
          "text": [
            "2023-11-13 22:06:32.077875: I tensorflow/core/util/port.cc:111] oneDNN custom operations are on. You may see slightly different numerical results due to floating-point round-off errors from different computation orders. To turn them off, set the environment variable `TF_ENABLE_ONEDNN_OPTS=0`.\n",
            "2023-11-13 22:06:32.080922: I tensorflow/tsl/cuda/cudart_stub.cc:28] Could not find cuda drivers on your machine, GPU will not be used.\n",
            "2023-11-13 22:06:32.119791: E tensorflow/compiler/xla/stream_executor/cuda/cuda_dnn.cc:9342] Unable to register cuDNN factory: Attempting to register factory for plugin cuDNN when one has already been registered\n",
            "2023-11-13 22:06:32.119844: E tensorflow/compiler/xla/stream_executor/cuda/cuda_fft.cc:609] Unable to register cuFFT factory: Attempting to register factory for plugin cuFFT when one has already been registered\n",
            "2023-11-13 22:06:32.119863: E tensorflow/compiler/xla/stream_executor/cuda/cuda_blas.cc:1518] Unable to register cuBLAS factory: Attempting to register factory for plugin cuBLAS when one has already been registered\n",
            "2023-11-13 22:06:32.125530: I tensorflow/tsl/cuda/cudart_stub.cc:28] Could not find cuda drivers on your machine, GPU will not be used.\n",
            "2023-11-13 22:06:32.126999: I tensorflow/core/platform/cpu_feature_guard.cc:182] This TensorFlow binary is optimized to use available CPU instructions in performance-critical operations.\n",
            "To enable the following instructions: AVX2 AVX512F AVX512_VNNI FMA, in other operations, rebuild TensorFlow with the appropriate compiler flags.\n",
            "2023-11-13 22:06:33.109932: W tensorflow/compiler/tf2tensorrt/utils/py_utils.cc:38] TF-TRT Warning: Could not find TensorRT\n"
          ]
        },
        {
          "name": "stdout",
          "output_type": "stream",
          "text": [
            "Corruptions: {'5->3': 632, '9->0': 698, '2->8': 689, '1->6': 679, '4->2': 550, '3->8': 675, '5->9': 660, '3->9': 729, '1->3': 642, '7->2': 653, '2->9': 696, '8->2': 660, '6->8': 696, '9->8': 686, '4->9': 614, '9->3': 681, '1->0': 700, '1->2': 696, '4->8': 604, '3->6': 727, '3->0': 763, '0->5': 703, '5->6': 637, '0->8': 675, '8->3': 673, '9->6': 716, '9->2': 694, '3->2': 675, '7->5': 599, '8->5': 687, '4->5': 562, '0->9': 682, '5->8': 622, '6->0': 656, '0->6': 729, '2->0': 703, '7->9': 645, '7->0': 609, '8->0': 656, '6->3': 699, '7->6': 614, '6->2': 697, '7->3': 603, '8->6': 689, '5->0': 656, '3->5': 704, '2->5': 673, '1->8': 673, '0->3': 730, '2->3': 697, '6->9': 702, '4->0': 634, '1->5': 652, '5->2': 609, '2->6': 724, '4->6': 583, '9->5': 679, '8->9': 689, '7->8': 608, '0->2': 682, '4->3': 549, '1->9': 660, '6->5': 678}\n",
            "Corrupted indexes: [0, 4, 5, 6, 9, 10, 11, 12, 14, 15]\n",
            "Model: \"sequential\"\n",
            "_________________________________________________________________\n",
            " Layer (type)                Output Shape              Param #   \n",
            "=================================================================\n",
            " conv2d (Conv2D)             (None, 26, 26, 32)        320       \n",
            "                                                                 \n",
            " max_pooling2d (MaxPooling2  (None, 13, 13, 32)        0         \n",
            " D)                                                              \n",
            "                                                                 \n",
            " flatten (Flatten)           (None, 5408)              0         \n",
            "                                                                 \n",
            " dropout (Dropout)           (None, 5408)              0         \n",
            "                                                                 \n",
            " dense (Dense)               (None, 10)                54090     \n",
            "                                                                 \n",
            "=================================================================\n",
            "Total params: 54410 (212.54 KB)\n",
            "Trainable params: 54410 (212.54 KB)\n",
            "Non-trainable params: 0 (0.00 Byte)\n",
            "_________________________________________________________________\n"
          ]
        }
      ],
      "source": [
        "\n",
        "#! remove this:\n",
        "from sklearn.metrics import accuracy_score\n",
        "\n",
        "import numpy as np\n",
        "from tensorflow import keras\n",
        "from tensorflow.keras import layers\n",
        "\n",
        "# Model / data parameters\n",
        "num_classes = 10\n",
        "input_shape = (28, 28, 1) # 28x28 pixel images with 1 colour channel (grayscale)\n",
        "\n",
        "# Load the data and split it between train and test sets\n",
        "# x = images, y = labels\n",
        "(x_train, y_train), (x_test, y_test) = keras.datasets.mnist.load_data()\n",
        "\n",
        "# Scale images to the [0, 1] range\n",
        "x_train = x_train.astype(\"float32\") / 255 # 0-255 to 0-1\n",
        "x_test = x_test.astype(\"float32\") / 255\n",
        "# Make sure images have shape (28, 28, 1)\n",
        "x_train = np.expand_dims(x_train, -1) # -1 means last dimension\n",
        "x_test = np.expand_dims(x_test, -1)\n",
        "\n",
        "import random\n",
        "noise_probability = 0.7\n",
        "\n",
        "def corrupt_label(y, err):\n",
        "    found = np.where(err == y)\n",
        "    if len(found) > 0: #! if y (true label if is in err)\n",
        "        # select an element at random (index != found)\n",
        "        noisy_label = random.choice(err)\n",
        "        while noisy_label == y:\n",
        "            noisy_label = random.choice(err)\n",
        "        return noisy_label\n",
        "    return y #! if y is not in err, then return y (true label) then use error set 2\n",
        "\n",
        "# We corrupt the MNIST data with some common mistakes, such as 3-->8, 8-->3, 1-->{4, 7}, 5-->6 etc.\n",
        "def corrupt_labels(y_train, noise_probability):\n",
        "    num_samples = y_train.shape[0]\n",
        "    err_es_1 = np.array([0, 2, 3, 5, 6, 8, 9])\n",
        "    err_es_2 = np.array([1, 4, 7])\n",
        "\n",
        "    corruptions = {}\n",
        "    corrupted_indexes = {}\n",
        "\n",
        "    for i in range(num_samples):\n",
        "        # generate a random number between 0 and 1:\n",
        "        p = random.random()\n",
        "\n",
        "        #! if p > noise_probability, then we do not corrupt the label?\n",
        "        if p < noise_probability:\n",
        "            y = y_train[i] # true label\n",
        "            y_noisy = corrupt_label(y, err_es_1)\n",
        "            if y_noisy == y:\n",
        "                y_noisy = corrupt_label(y, err_es_2)\n",
        "\n",
        "            key = str(y_train[i]) + '->' + str(y_noisy)\n",
        "            corrupted_indexes[i] = i\n",
        "\n",
        "            if key in corruptions:\n",
        "                corruptions[key] += 1\n",
        "            else:\n",
        "                corruptions[key] = 0\n",
        "\n",
        "            y_train[i] = y_noisy\n",
        "\n",
        "    return corruptions, corrupted_indexes\n",
        "\n",
        "corruptions, corrupted_indexes = corrupt_labels(y_train, noise_probability)\n",
        "print (\"Corruptions: \" + str(corruptions))\n",
        "print (\"Corrupted indexes: {}\".format(list(corrupted_indexes.keys())[0:10]))\n",
        "\n",
        "# convert class vectors to binary class matrices\n",
        "y_train_onehot = keras.utils.to_categorical(y_train, num_classes)\n",
        "y_test_onehot = keras.utils.to_categorical(y_test, num_classes)\n",
        "\n",
        "\n",
        "\n",
        "batch_size = 128\n",
        "epochs = 3 # very high epochs might overfit the model.\n",
        "validation_split=0.1\n",
        "\n",
        "\n",
        "model = keras.Sequential(\n",
        "    [\n",
        "        keras.Input(shape=input_shape),\n",
        "        layers.Conv2D(32, kernel_size=(3, 3), activation=\"relu\"),\n",
        "        layers.MaxPooling2D(pool_size=(2, 2)),\n",
        "        layers.Flatten(),\n",
        "        layers.Dropout(0.5),\n",
        "        layers.Dense(num_classes, activation=\"softmax\"),\n",
        "    ]\n",
        ")\n",
        "model.summary()\n",
        "model.compile(loss=\"categorical_crossentropy\", optimizer=\"adam\", metrics=[\"accuracy\"])\n",
        "\n",
        "def prune_points(x_train, y_train, pruned_indexes):\n",
        "    num_samples = x_train.shape[0] # = 60000\n",
        "    x_train_pruned = []\n",
        "    y_train_pruned = []\n",
        "    for i in range(num_samples):\n",
        "        if not i in pruned_indexes:\n",
        "            x_train_pruned.append(x_train[i])\n",
        "            y_train_pruned.append(y_train[i])\n",
        "\n",
        "    return np.array(x_train_pruned), np.array(y_train_pruned)\n",
        "\n",
        "def trainAndEvaluateModel(x_train, y_train, x_test, y_test, model, pruned_indexes):\n",
        "\n",
        "    if not pruned_indexes == None:\n",
        "        x_train_pruned, y_train_pruned = prune_points(x_train, y_train, pruned_indexes)\n",
        "    else:\n",
        "        x_train_pruned = x_train\n",
        "        y_train_pruned = y_train\n",
        "\n",
        "    # start training the model:\n",
        "    model.fit(x_train_pruned, y_train_pruned, batch_size=batch_size, epochs=epochs)\n",
        "    \n",
        "    #! remove this:\n",
        "    y_prob = model.predict(x_test)  # Get predictions\n",
        "    y_pred = np.argmax(y_prob, axis=1)  # Convert to class labels\n",
        "    # If y_test is one-hot encoded, convert it back to labels\n",
        "    y_test_labels = np.argmax(y_test, axis=1)\n",
        "    accuracy = accuracy_score(y_test_labels, y_pred)\n",
        "    print(f\"Accuracy: {accuracy}\")\n",
        "    \n",
        "    #! if my algorithm must use the loss or accuracy, then I can mention in the report:\n",
        "    loss, accuracy = model.evaluate(x_test, y_test)\n",
        "    # loss_list.append(loss) #! remove this\n",
        "    # acc_list.append(accuracy) #! remove this\n",
        "    #! ------------------------\n",
        "\n",
        "    keras.backend.clear_session() # remove previous training weights\n",
        "\n",
        "    #! remove this:    \n",
        "    return loss, accuracy\n"
      ]
    },
    {
      "cell_type": "code",
      "execution_count": 3,
      "metadata": {},
      "outputs": [],
      "source": [
        "root = {\"State\": \"X\", \"Accuracy\" : 0, \"Loss\" : 0, \"Pruned\" : {}, \"Next States\": []}"
      ]
    },
    {
      "cell_type": "code",
      "execution_count": 4,
      "metadata": {},
      "outputs": [],
      "source": [
        "def update_accuracy_loss(node, accuracy, loss):\n",
        "    node[\"Accuracy\"] = accuracy\n",
        "    node[\"Loss\"] = loss\n",
        "    \n",
        "def add_child(node, counter, accuracy, loss, pruned_indexes={}, next_states=[]):\n",
        "    child_node = {\"State\": f\"X{counter}\", \"Accuracy\" : accuracy, \"Loss\" : loss, \"Pruned\" : pruned_indexes, \"Next States\": next_states}\n",
        "    node[\"Next States\"].append(child_node)\n",
        "    \n",
        "def retrain_model(total_num_samples, current_counter, remove_percentage=0.01):\n",
        "    \n",
        "    \n",
        "    num_samples_to_remove = int(total_num_samples * remove_percentage)\n",
        "    # get unique indexes to remove:\n",
        "    #! ############# heuristic to be used here\n",
        "    indexes_to_remove = np.random.choice(total_num_samples, num_samples_to_remove, replace=False)\n",
        "    print(f\"indexes_to_remove: {indexes_to_remove}\")\n",
        "    temp_pruned_indexes = {}\n",
        "    \n",
        "    for index in indexes_to_remove:\n",
        "        temp_pruned_indexes[index] = index\n",
        "    \n",
        "    # for _ in range(num_samples_to_remove):\n",
        "    #     # randomly select an index to remove from the whole data set:\n",
        "    #     index = random.randint(0, total_num_samples)\n",
        "    #     temp_pruned_indexes[index] = index\n",
        "            \n",
        "    loss, accuracy = trainAndEvaluateModel(x_train, y_train_onehot, x_test, y_test_onehot, model, temp_pruned_indexes)\n",
        "    acc_list.append(accuracy)\n",
        "    loss_list.append(loss)\n",
        "    new_counter = current_counter + 1\n",
        "    add_child(root, new_counter, accuracy, loss, temp_pruned_indexes, [])\n",
        "    \n",
        "    return new_counter, accuracy, temp_pruned_indexes\n"
      ]
    },
    {
      "cell_type": "code",
      "execution_count": 5,
      "id": "_86qcqRrYRxd",
      "metadata": {
        "id": "_86qcqRrYRxd"
      },
      "outputs": [],
      "source": [
        "def myPrunedSubsetMethod(x_train, y_train, model):\n",
        "\n",
        "    pruned_indexes = {} # to be returned\n",
        "    temp_pruned_indexes = {}\n",
        "    counter = 0 # for naming the nodes (first will 1 as 0 is technically the root)\n",
        "    highest_accuracy = 0\n",
        "\n",
        "    # 1. train the model on the entire dataset. (start state)\n",
        "    # 2. get the predictions.\n",
        "    base_loss, base_accuracy = trainAndEvaluateModel(x_train, y_train_onehot, x_test, y_test_onehot, model, None)\n",
        "    \n",
        "    highest_accuracy = base_accuracy\n",
        "    # 3. improved accuracy (accuracy - base_accuracy) is the reward function (what is the utility?). Make the state diagram:\n",
        "    update_accuracy_loss(root, base_accuracy, base_loss) # nothing is pruned at the start state\n",
        "\n",
        "    # 4. retrain the model without a subset of the data (next state, first child of start state).\n",
        "    # remove 1% of the data:\n",
        "    num_samples = x_train.shape[0]\n",
        "    \n",
        "    remove_percentage = 0.001\n",
        "    depth = 0\n",
        "    \n",
        "    while highest_accuracy < 0.95 and depth < 10:\n",
        "        \n",
        "        print(f\"\\nRunning iteration {depth}\")\n",
        "        \n",
        "        counter, accuracy, temp_pruned_indexes = retrain_model(num_samples, counter, remove_percentage)\n",
        "        \n",
        "        # 6. keep track of the highest accuracy. if we get >95% then stop.\n",
        "        if accuracy > highest_accuracy:\n",
        "            print (\"Accuracy improved!\")\n",
        "            highest_accuracy = accuracy\n",
        "            if accuracy > 0.95:\n",
        "                break\n",
        "            \n",
        "\n",
        "        # 5. retrain the model without another subset of the data (next state, second child of start state).\n",
        "        counter, accuracy, temp_pruned_indexes = retrain_model(num_samples, counter, remove_percentage)\n",
        "\n",
        "        # 6. keep track of the highest accuracy. if we get >95% then stop.\n",
        "        if accuracy > highest_accuracy:\n",
        "            print (\"Accuracy improved!\")\n",
        "            highest_accuracy = accuracy\n",
        "            if accuracy > 0.95:\n",
        "                break\n",
        "        \n",
        "    \n",
        "    # 7. keep doing so until d depth or highest accuracy achieved? making a binary search tree.\n",
        "\n",
        "    # 8. use a search algorithm to find the best path to the goal state (highest accuracy). Use some heuristic that comes from the rules of how we corrupt the data (i.e. some digits are never corrupted. what digits get corrupted to what?).\n",
        "    \n",
        "    pruned_indexes = temp_pruned_indexes\n",
        "    \n",
        "    depth += 1\n",
        "    \n",
        "    return pruned_indexes\n",
        "\n",
        "\n",
        "# iterating might improve the model's performance even without changing what is pruned:\n",
        "# for i in range(10):\n",
        "#     print(f\"\\nRunning iteration {i}\")\n",
        "#     # print(f\"Pruned indexes: {pruned_indexes}\\n\")\n",
        "#     trainAndEvaluateModel(x_train, y_train_onehot, x_test, y_test_onehot, model, pruned_indexes)\n",
        "\n",
        "# print (f\"Loss: {loss_list}\")\n",
        "# print (f\"Accuracy: {acc_list}\")\n",
        "\n",
        "# accuracy = accuracy_score(y_test, y_pred)\n",
        "# print\n",
        "\n",
        "# import matplotlib.pyplot as plt\n",
        "# plt.plot(acc_list)\n",
        "# plt.ylabel('Accuracy')\n",
        "# plt.xlabel('Iteration')\n",
        "# plt.title('Accuracy vs Iteration')\n",
        "# plt.show()\n"
      ]
    },
    {
      "cell_type": "code",
      "execution_count": 6,
      "metadata": {},
      "outputs": [
        {
          "name": "stdout",
          "output_type": "stream",
          "text": [
            "Epoch 1/3\n",
            "469/469 [==============================] - 8s 16ms/step - loss: 1.9949 - accuracy: 0.2439\n",
            "Epoch 2/3\n",
            " 52/469 [==>...........................] - ETA: 6s - loss: 1.9521 - accuracy: 0.2712"
          ]
        }
      ],
      "source": [
        "pruned_indexes = myPrunedSubsetMethod(x_train, y_train, model)\n",
        "print(f\"pruned_indexes: {pruned_indexes}\")"
      ]
    },
    {
      "cell_type": "code",
      "execution_count": null,
      "metadata": {},
      "outputs": [],
      "source": [
        "loss, accuracy = trainAndEvaluateModel(x_train, y_train_onehot, x_test, y_test_onehot, model, pruned_indexes)\n",
        "print(f\"Accuracy: {accuracy}\")\n",
        "print(f\"Loss: {loss}\")"
      ]
    },
    {
      "cell_type": "code",
      "execution_count": 16,
      "metadata": {},
      "outputs": [
        {
          "data": {
            "image/png": "[encoded data removed]",
            "text/plain": [
              "<Figure size 640x480 with 1 Axes>"
            ]
          },
          "metadata": {},
          "output_type": "display_data"
        }
      ],
      "source": [
        "import matplotlib.pyplot as plt\n",
        "import networkx as nx\n",
        "\n",
        "def add_nodes_and_edges(graph, parent_node):\n",
        "    decimal_points = 2\n",
        "    parent_state = parent_node[\"State\"]\n",
        "    for child in parent_node[\"Next States\"]:\n",
        "        child_state = child[\"State\"]\n",
        "        # Create a label with selected information\n",
        "        label = f\"{child_state}\\nAccuracy: {round(child['Accuracy'], decimal_points)}\\nLoss: {round(child['Loss'], decimal_points)}\"\n",
        "        graph.add_node(child_state, label=label)\n",
        "        graph.add_edge(parent_state, child_state)\n",
        "        add_nodes_and_edges(graph, child)\n",
        "\n",
        "def plot_tree(tree):\n",
        "    decimal_points = 2\n",
        "    G = nx.DiGraph()\n",
        "\n",
        "    # Add the root node\n",
        "    root_state = tree[\"State\"]\n",
        "    root_label = f\"{root_state}\\nAccuracy: {round(tree['Accuracy'], decimal_points)}\\nLoss: {round(tree['Loss'], decimal_points)}\"\n",
        "    G.add_node(root_state, label=root_label)\n",
        "\n",
        "    # Add children recursively\n",
        "    add_nodes_and_edges(G, tree)\n",
        "\n",
        "    # Draw the graph\n",
        "    pos = nx.spring_layout(G)\n",
        "    labels = nx.get_node_attributes(G, 'label')\n",
        "    nx.draw(G, pos, labels=labels, with_labels=True, node_color=\"skyblue\", node_size=3000, font_size=8, font_weight=\"bold\", arrows=True)\n",
        "    plt.show()\n",
        "    \n",
        "plot_tree(root)"
      ]
    },
    {
      "cell_type": "markdown",
      "metadata": {},
      "source": [
        "I am trying to come up with an algorithm to smartly prune most of the mislabeled data points. I can use any of the prior knowledge I have about how the data got mislabeled. I was thinking of an iterative approach where I start with a model with all data points, calculate accuracy then take a subset from this dataset and recalculate the accuracy. then choose the better accuracy model then repeat until accuracy is >95%. How is that related to any\n",
        "\n",
        "\n"
      ]
    },
    {
      "cell_type": "code",
      "execution_count": 81,
      "metadata": {},
      "outputs": [],
      "source": [
        "unique = []"
      ]
    },
    {
      "cell_type": "code",
      "execution_count": 82,
      "metadata": {},
      "outputs": [
        {
          "name": "stdout",
          "output_type": "stream",
          "text": [
            "['banana' 'date' 'fig']\n",
            "['banana', 'date', 'fig']\n",
            "{'date', 'banana', 'fig'}\n",
            "Unique is STILL unique\n"
          ]
        }
      ],
      "source": [
        "import numpy as np\n",
        "\n",
        "# Define the array of fruits\n",
        "fruits = [\"apple\", \"banana\", \"cherry\", \"date\", \"elderberry\", \"fig\", \"grape\"]\n",
        "\n",
        "random_fruits = np.random.choice(fruits, 3, replace=False)\n",
        "\n",
        "[unique.append(fruit) for fruit in random_fruits]\n",
        "\n",
        "print(random_fruits)\n",
        "\n",
        "print(unique)\n",
        "\n",
        "# find if unique is still unique:\n",
        "print(set(unique))\n",
        "if len(unique) == len(set(unique)):\n",
        "    print(\"Unique is STILL unique\")\n",
        "else:\n",
        "    print(\"Unique is NOT unique\")\n"
      ]
    }
  ],
  "metadata": {
    "colab": {
      "include_colab_link": true,
      "provenance": []
    },
    "kernelspec": {
      "display_name": "Python 3",
      "language": "python",
      "name": "python3"
    },
    "language_info": {
      "codemirror_mode": {
        "name": "ipython",
        "version": 3
      },
      "file_extension": ".py",
      "mimetype": "text/x-python",
      "name": "python",
      "nbconvert_exporter": "python",
      "pygments_lexer": "ipython3",
      "version": "3.10.12"
    }
  },
  "nbformat": 4,
  "nbformat_minor": 5
}
