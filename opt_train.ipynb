{
  "cells": [
    {
      "cell_type": "markdown",
      "id": "anticipated-consumer",
      "metadata": {
        "id": "anticipated-consumer"
      },
      "source": [
        "In this assignment, we are going to implement see if we can optimally select a subset of training instances for supervised learning."
      ]
    },
    {
      "cell_type": "code",
      "execution_count": null,
      "id": "higher-nebraska",
      "metadata": {
        "id": "higher-nebraska"
      },
      "outputs": [],
      "source": [
        "import numpy as np\n",
        "from tensorflow import keras\n",
        "from tensorflow.keras import layers"
      ]
    },
    {
      "cell_type": "markdown",
      "id": "daily-internship",
      "metadata": {
        "id": "daily-internship"
      },
      "source": [
        "We are going to work with the MNIST dataset, a popular dataset for hand-written digit recognition. Here we load the datatset."
      ]
    },
    {
      "cell_type": "code",
      "execution_count": null,
      "id": "palestinian-texas",
      "metadata": {
        "colab": {
          "base_uri": "https://localhost:8080/"
        },
        "id": "palestinian-texas",
        "outputId": "2e6494ee-e47d-4968-e8b5-01374df7d5e4"
      },
      "outputs": [],
      "source": [
        "# Model / data parameters\n",
        "num_classes = 10\n",
        "input_shape = (28, 28, 1)\n",
        "\n",
        "# Load the data and split it between train and test sets\n",
        "(x_train, y_train), (x_test, y_test) = keras.datasets.mnist.load_data()\n",
        "\n",
        "# Scale images to the [0, 1] range\n",
        "x_train = x_train.astype(\"float32\") / 255\n",
        "x_test = x_test.astype(\"float32\") / 255\n",
        "# Make sure images have shape (28, 28, 1)\n",
        "x_train = np.expand_dims(x_train, -1) # -1 means the last axis\n",
        "x_test = np.expand_dims(x_test, -1)\n",
        "print(\"x_train shape:\", x_train.shape)\n",
        "print(\"Loaded {} train samples\".format(x_train.shape[0]))\n",
        "print(\"Loaded {} test samples\".format(x_test.shape[0]))\n",
        "\n",
        "#! scale down the training set to 10_000 samples\n",
        "import random\n",
        "random.seed(42)\n",
        "train_size = 10_200\n",
        "test_size = 200\n",
        "# make x_train have roughly same number of samples for each class:\n",
        "# x_train = np.concatenate([x_train[y_train == i][:train_size // 10] for i in range(10)])\n",
        "# y_train = np.concatenate([y_train[y_train == i][:train_size // 10] for i in range(10)])\n",
        "# # make x_test have roughly same number of samples for each class:\n",
        "# x_test = np.concatenate([x_test[y_test == i][:test_size // 10] for i in range(10)])\n",
        "# y_test = np.concatenate([y_test[y_test == i][:test_size // 10] for i in range(10)])\n",
        "\n",
        "# x_train = x_train[:train_size]\n",
        "# y_train = y_train[:train_size]\n",
        "# get test sets from x_train and y_train:\n",
        "# random_indices = np.random.choice(x_train.shape[0], size=test_size, replace=False)\n",
        "# x_test = x_train[random_indices]\n",
        "# y_test = y_train[random_indices]\n",
        "# delete the test sets from x_train and y_train:\n",
        "# x_train = np.delete(x_train, random_indices, axis=0)\n",
        "# y_train = np.delete(y_train, random_indices)\n",
        "\n",
        "print(\"x_train shape:\", x_train.shape)\n",
        "print(\"Loaded {} train samples\".format(x_train.shape[0]))\n",
        "print(\"Loaded {} test samples\".format(x_test.shape[0]))\n",
        "print(f\"Num of data points per class in train set: {np.unique(y_train, return_counts=True)[1]}\")\n"
      ]
    },
    {
      "cell_type": "code",
      "execution_count": null,
      "id": "95504f5b",
      "metadata": {},
      "outputs": [],
      "source": [
        "# count how many data points are in each class\n",
        "res = np.unique(y_train, return_counts=True)\n",
        "print({k:v for k,v in zip(res[0], res[1])})"
      ]
    },
    {
      "cell_type": "markdown",
      "id": "empty-desert",
      "metadata": {
        "id": "empty-desert"
      },
      "source": [
        "Now corrupt the labels with common types of mistakes. The variable 'noise_probability' controls the amount of errors introduced."
      ]
    },
    {
      "cell_type": "code",
      "execution_count": null,
      "id": "champion-technician",
      "metadata": {
        "colab": {
          "base_uri": "https://localhost:8080/"
        },
        "id": "champion-technician",
        "outputId": "ab792401-d617-4afb-d634-5df238e0ee19"
      },
      "outputs": [],
      "source": [
        "import random\n",
        "noise_probability = 0.5\n",
        "SEED = 314159\n",
        "\n",
        "random.seed(SEED)\n",
        "\n",
        "def index(array, item):\n",
        "    for i in range(len(array)):\n",
        "        if item == array[i]:\n",
        "            return i\n",
        "    return -1\n",
        "\n",
        "def corrupt_label(y, y_index, err):\n",
        "    n = len(err)\n",
        "    # select an element at random (index != found)\n",
        "    if (y_index == n-1):\n",
        "        noisy_label = err[0]\n",
        "    else:\n",
        "        noisy_label = err[(y_index + 1)%n]\n",
        "    return noisy_label\n",
        "\n",
        "# We corrupt the MNIST data with some common mistakes, such as 3-->8, 8-->3, 1-->{4, 7}, 5-->6 etc.\n",
        "def corrupt_labels(y_train, noise_probability):\n",
        "    num_samples = y_train.shape[0]\n",
        "    err_es_1 = np.array([0, 2, 3, 5, 6, 8, 9])\n",
        "    err_es_2 = np.array([1, 4, 7])\n",
        "\n",
        "    corruptions = {}\n",
        "    corrupted_indexes = {}\n",
        "\n",
        "    for i in range(num_samples):\n",
        "        p = random.random()\n",
        "\n",
        "        if p < noise_probability:\n",
        "            y = y_train[i]\n",
        "\n",
        "            y_index = index(err_es_1, y)\n",
        "            if y_index >= 0:\n",
        "                y_noisy = corrupt_label(y, y_index, err_es_1)\n",
        "            else:\n",
        "                y_index = index(err_es_2, y)\n",
        "                y_noisy = corrupt_label(y, y_index, err_es_2)\n",
        "\n",
        "            key = str(y_train[i]) + '->' + str(y_noisy)\n",
        "            corrupted_indexes[i] = i\n",
        "\n",
        "            if key in corruptions:\n",
        "                corruptions[key] += 1\n",
        "            else:\n",
        "                corruptions[key] = 0\n",
        "\n",
        "            y_train[i] = y_noisy\n",
        "\n",
        "    return corruptions, corrupted_indexes\n",
        "\n",
        "corruptions, corrupted_indexes = corrupt_labels(y_train, noise_probability)\n",
        "print (\"Corruptions: \" + str(corruptions))\n",
        "print (\"Number of corruptions: {}\".format(len(list(corrupted_indexes.keys()))))\n"
      ]
    },
    {
      "cell_type": "code",
      "execution_count": null,
      "id": "3fd83ff4",
      "metadata": {},
      "outputs": [],
      "source": [
        "print(f\"Length of pruned indexes: {len(corrupted_indexes)}\")\n"
      ]
    },
    {
      "cell_type": "code",
      "execution_count": null,
      "id": "4ee48cb6",
      "metadata": {},
      "outputs": [],
      "source": [
        "# count how many data points are in each class after corruption\n",
        "res = np.unique(y_train, return_counts=True)\n",
        "print({k:v for k,v in zip(res[0], res[1])})"
      ]
    },
    {
      "cell_type": "code",
      "execution_count": null,
      "id": "quality-gauge",
      "metadata": {
        "id": "quality-gauge"
      },
      "outputs": [],
      "source": [
        "# convert class vectors to binary class matrices\n",
        "y_train_onehot = keras.utils.to_categorical(y_train, num_classes)\n",
        "y_test_onehot = keras.utils.to_categorical(y_test, num_classes)"
      ]
    },
    {
      "cell_type": "markdown",
      "id": "fifth-celebrity",
      "metadata": {
        "id": "fifth-celebrity"
      },
      "source": [
        "Supervised (parametric) training with the (noisy) labeled examples. Note that this model is trained on the entire dataset (the value of the parameter pruned_indexes is null here, which means that we leave out no points), which is noisy (20% of the labels are corrupted). Now the question is: is this the best model that we can train or can we do better?"
      ]
    },
    {
      "cell_type": "code",
      "execution_count": null,
      "id": "extreme-ethernet",
      "metadata": {
        "colab": {
          "base_uri": "https://localhost:8080/"
        },
        "id": "extreme-ethernet",
        "outputId": "cb7c5e23-7242-4c71-c830-88dabc51ca3f"
      },
      "outputs": [],
      "source": [
        "batch_size = 128\n",
        "epochs = 3\n",
        "validation_split=0.1\n",
        "\n",
        "\n",
        "model = keras.Sequential(\n",
        "    [\n",
        "        keras.Input(shape=input_shape),\n",
        "        layers.Conv2D(32, kernel_size=(3, 3), activation=\"relu\"),\n",
        "        layers.MaxPooling2D(pool_size=(2, 2)),\n",
        "        layers.Flatten(),\n",
        "        layers.Dropout(0.5),\n",
        "        layers.Dense(num_classes, activation=\"softmax\"),\n",
        "    ]\n",
        ")\n",
        "model.summary()\n",
        "model.compile(loss=\"categorical_crossentropy\", optimizer=\"adam\", metrics=[\"accuracy\"])\n",
        "\n",
        "def prune_points(x_train, y_train, pruned_indexes):\n",
        "    num_samples = x_train.shape[0]\n",
        "    x_train_pruned = []\n",
        "    y_train_pruned = []\n",
        "    for i in range(num_samples):\n",
        "        if not i in pruned_indexes:\n",
        "            x_train_pruned.append(x_train[i])\n",
        "            y_train_pruned.append(y_train[i])\n",
        "\n",
        "    return np.array(x_train_pruned), np.array(y_train_pruned)\n",
        "\n",
        "def trainAndEvaluateModel(x_train, y_train, x_test, y_test, model, pruned_indexes):\n",
        "\n",
        "    if not pruned_indexes == None:\n",
        "        x_train_pruned, y_train_pruned = prune_points(x_train, y_train, pruned_indexes)\n",
        "    else:\n",
        "        x_train_pruned = x_train\n",
        "        y_train_pruned = y_train\n",
        "\n",
        "    model.fit(x_train_pruned, y_train_pruned, batch_size=batch_size, epochs=epochs)\n",
        "    loss, accuracy = model.evaluate(x_test, y_test)\n",
        "    keras.backend.clear_session() # remove previous training weights\n",
        "    \n",
        "    return loss, accuracy\n",
        "    \n"
      ]
    },
    {
      "cell_type": "markdown",
      "id": "indie-waterproof",
      "metadata": {
        "id": "indie-waterproof"
      },
      "source": [
        "And we call the following function to train a model on the entire dataset and evaluate it on the test set. The accuracy on the test set is quite good, but can we do better?"
      ]
    },
    {
      "cell_type": "code",
      "execution_count": null,
      "id": "embedded-staff",
      "metadata": {
        "colab": {
          "base_uri": "https://localhost:8080/"
        },
        "id": "embedded-staff",
        "outputId": "707551e0-dc21-4016-8ba9-3b9e05de1069"
      },
      "outputs": [],
      "source": [
        "# trainAndEvaluateModel(x_train, y_train_onehot, x_test, y_test_onehot, model, None)"
      ]
    },
    {
      "cell_type": "markdown",
      "id": "structured-lithuania",
      "metadata": {
        "id": "structured-lithuania"
      },
      "source": [
        "You need to implement a subset selection function that when called will return a subset of instances which will be used to train the model. This setup ensures that you also pass in another dictionary which contains the indexes of the instances that you would not want to use while training the model, i.e., it should contain a list of indexes that you would decide to **leave out** for training.\n",
        "\n",
        "Here's the code and a sample implementation that returns a randomly chosen set of instances that you are to be left out. Since we chose 70% probability of label corruption (check the **noise_probability** parameter), we also select a subset where we leave out the same proportion of points. This is a baseline implementation and obviously you should aim to achieve better results than this."
      ]
    },
    {
      "cell_type": "code",
      "execution_count": null,
      "id": "unique-operator",
      "metadata": {
        "id": "unique-operator"
      },
      "outputs": [],
      "source": [
        "# Here 'x_train', 'y_train' and model' are an unused parameters. But you may get better results by leveraging these.\n",
        "def baseLinePrunedSubsetMethod(x_train, y_train, model):\n",
        "    pruned_indexes = {}\n",
        "    num_samples = x_train.shape[0]\n",
        "    for i in range(num_samples):\n",
        "        p = random.random()\n",
        "\n",
        "        if p < noise_probability: # this is the global variable (only useful for this naive approach)\n",
        "            pruned_indexes[i] = i\n",
        "    return pruned_indexes"
      ]
    },
    {
      "cell_type": "markdown",
      "id": "stunning-steel",
      "metadata": {
        "id": "stunning-steel"
      },
      "source": [
        "Let's see how this naive baseline works."
      ]
    },
    {
      "cell_type": "code",
      "execution_count": null,
      "id": "formed-refrigerator",
      "metadata": {
        "colab": {
          "base_uri": "https://localhost:8080/"
        },
        "id": "formed-refrigerator",
        "outputId": "b37fa32f-1af8-417c-8a33-1f53d42157ba"
      },
      "outputs": [],
      "source": [
        "pruned_indexes = baseLinePrunedSubsetMethod(x_train, y_train, model)\n",
        "# trainAndEvaluateModel(x_train, y_train_onehot, x_test, y_test_onehot, model, pruned_indexes)"
      ]
    },
    {
      "cell_type": "markdown",
      "id": "backed-cache",
      "metadata": {
        "id": "backed-cache"
      },
      "source": [
        "Let's now see if we had known what points were actually corrupted (more of a hypothetical unrealistic situation), does leaving out those points actually improve the model's effectiveness. It turns out that it does!"
      ]
    },
    {
      "cell_type": "code",
      "execution_count": null,
      "id": "amino-orientation",
      "metadata": {
        "colab": {
          "base_uri": "https://localhost:8080/"
        },
        "id": "amino-orientation",
        "outputId": "ed71db95-e2da-4d84-ddb0-8b815f73d1ed"
      },
      "outputs": [],
      "source": [
        "# trainAndEvaluateModel(x_train, y_train_onehot, x_test, y_test_onehot, model, corrupted_indexes)"
      ]
    },
    {
      "cell_type": "markdown",
      "id": "bright-constitutional",
      "metadata": {
        "id": "bright-constitutional"
      },
      "source": [
        "Your task is to implement your own version of (say of name **myPrunedSubsetMethod** (which should take as arguments x_train, y_train, and the model). The function should return a dictionary of indexes that are to be left out. Plug your function in and evaluate the results. Write a thorough report on the methodology and analyse the results.\n",
        "\n",
        "Some hints:\n",
        "You can approach this as a discrete state space optimisation problem, where firstly you can define a \"selection batch size\" (this is not the same as training batch size), which decides which batch of instances you're going to leave out. For instance, if you are in a state where the training set is $X$, you may select (by some heuristics) which points you're gonna leave out (let that set be $\\delta \\subset X$) so that a child state becomes $X' = X - \\delta$. Similarly, if you choose a different $\\delta$ you get a different child state. You then need to train and evaluate (call the function *trainAndEvaluateModel*) to see if that child state led to an improvement or not.\n",
        "\n",
        "You are free to use any algorithm, e.g., simulated annealing, A* search, genetic algorithm etc. to implement this discrete state space optimisation."
      ]
    },
    {
      "cell_type": "markdown",
      "id": "1f1269e4",
      "metadata": {},
      "source": [
        "# Using Genetic Algorithm:"
      ]
    },
    {
      "cell_type": "code",
      "execution_count": null,
      "id": "f7834ad5",
      "metadata": {},
      "outputs": [],
      "source": [
        "from math import ceil\n",
        "\n",
        "INPUT_SIZE = x_train.shape[0]\n",
        "\n",
        "#' Define GA parameters\n",
        "POPULATION_SIZE = 100 # number of individuals in population\n",
        "SELECTION_SIZE = ceil(POPULATION_SIZE*0.5) # number of individuals to select for next generation\n",
        "MUTATION_RATE = 0.1 # probability of mutating each individual\n",
        "CROSSOVER_RATE = 0.5 # probability of crossing over two individuals\n",
        "CROSSOVER_POINTS = 5 # number of crossover points\n",
        "GENERATIONS = 100 # number of generations\n",
        "BATTLE_PARTICIPANTS = 4 # number of individuals to participate in a tournament\n",
        "ELITE_NUM = 1 # number of elite individuals to keep from one generation to the next\n",
        "BIAS_STRENGTH = 100"
      ]
    },
    {
      "cell_type": "markdown",
      "id": "da72613c",
      "metadata": {},
      "source": [
        "## Initialise Population:"
      ]
    },
    {
      "cell_type": "code",
      "execution_count": null,
      "id": "2d2d0871",
      "metadata": {},
      "outputs": [],
      "source": [
        "def create_population(population_size, input_size, y_train, bias_strength=100):\n",
        "    # 0 means prune the point, 1 means keep the point:\n",
        "    population = []\n",
        "    \n",
        "    POPULATION_SIZE = population_size\n",
        "    INPUT_SIZE = input_size\n",
        "\n",
        "    # Calculate inverse frequencies for prioritization\n",
        "    classes, freq = np.unique(y_train, return_counts=True)\n",
        "    class_frequencies = {k:v for k,v in zip(classes, freq)}\n",
        "    max_freq = max(class_frequencies.values())\n",
        "    prioritization_scores = {digit_class: round(max_freq / freq, 2) for digit_class, freq in class_frequencies.items()}\n",
        "    print(f\"Prioritization scores: {prioritization_scores}\")\n",
        "    \n",
        "    for _ in range(POPULATION_SIZE):\n",
        "        individual = np.ones(INPUT_SIZE, dtype=int)\n",
        "        for i in range(INPUT_SIZE):\n",
        "            class_label = y_train[i]\n",
        "            # Bias towards selecting points from underrepresented classes:\n",
        "            if random.random() < ((prioritization_scores[class_label] / max_freq) * bias_strength):\n",
        "                individual[i] = 0\n",
        "        \n",
        "        # check if individual is not in population already:\n",
        "        # bc of this, accuracy is low for the first few individuals then it gets better.\n",
        "        if not np.any([np.array_equal(individual, indv) for indv in population]):\n",
        "            population.append(individual)\n",
        "            \n",
        "    # convert to tuple for hashability:\n",
        "    population = [tuple(individual) for individual in population]\n",
        "\n",
        "    return population\n"
      ]
    },
    {
      "cell_type": "markdown",
      "id": "999d7d90",
      "metadata": {},
      "source": [
        "## Run Genetic Algorithm:\n",
        "- Evaluate fitness of each individual\n",
        "- Select parents\n",
        "- Crossover\n",
        "- Mutation"
      ]
    },
    {
      "cell_type": "code",
      "execution_count": null,
      "id": "ccb61cac",
      "metadata": {},
      "outputs": [],
      "source": [
        "from functools import lru_cache\n",
        "import time\n",
        "import os\n",
        "\n",
        "@lru_cache(maxsize=None)\n",
        "def evaluate_fitness(model, individual):\n",
        "    '''Because hashing x_train is too slow, x_train and model need to be in the global scope for this to work.'''\n",
        "    pruned_indexes = {i:i for i,elt in enumerate(individual) if elt == 1}\n",
        "    if len(pruned_indexes) == INPUT_SIZE:\n",
        "        return 0.0\n",
        "    elif len(pruned_indexes) == 0:\n",
        "        loss, accuracy = trainAndEvaluateModel(x_train, y_train_onehot, x_test, y_test_onehot, model, None)\n",
        "    else:\n",
        "        loss, accuracy = trainAndEvaluateModel(x_train, y_train_onehot, x_test, y_test_onehot, model, pruned_indexes)\n",
        "    return accuracy\n",
        "\n",
        "def find_top_N_elements(population, fitness_scores, N):\n",
        "    top_N = []\n",
        "    for _ in range(N):\n",
        "        max_index = np.argmax(fitness_scores)\n",
        "        top_N.append(population[max_index])\n",
        "        fitness_scores[max_index] = -1\n",
        "    return top_N\n",
        "\n",
        "def select_individuals(population, fitness_scores, selection_size, battle_participants, elite_num):\n",
        "\n",
        "    selection_size = min(selection_size, len(population))\n",
        "    \n",
        "    # Select individuals for next generation\n",
        "    selected_individuals = []\n",
        "    \n",
        "    #' ELITISM:\n",
        "    selected_individuals.extend(find_top_N_elements(population, fitness_scores, elite_num))\n",
        "    \n",
        "    #' TOURNAMENT SELECTION:\n",
        "    while len(selected_individuals) < selection_size:\n",
        "        # Select BATTLE_PARTICIPANTS individuals at random\n",
        "        participants = random.sample(list(zip(population, fitness_scores)), battle_participants)\n",
        "        # Sort participants by fitness score\n",
        "        sorted_participants = sorted(participants, key=lambda x: x[1], reverse=True)\n",
        "        # Select the best individual from the tournament\n",
        "        selected_individuals.append(sorted_participants[0][0])\n",
        "    return selected_individuals\n",
        "\n",
        "def crossover(individual_1, individual_2, crossover_rate, crossover_points):\n",
        "    # Crossover individuals\n",
        "    if random.random() < crossover_rate:\n",
        "        crossover_points = random.sample(range(1, len(individual_1)), crossover_points)\n",
        "        crossover_points.sort()\n",
        "        new_individual_1 = individual_1[:crossover_points[0]] + individual_2[crossover_points[0]:crossover_points[1]] + individual_1[crossover_points[1]:]\n",
        "        new_individual_2 = individual_2[:crossover_points[0]] + individual_1[crossover_points[0]:crossover_points[1]] + individual_2[crossover_points[1]:]\n",
        "        return new_individual_1, new_individual_2\n",
        "    else:\n",
        "        return individual_1, individual_2\n",
        "    \n",
        "def mutate(individual, mutation_rate):\n",
        "    # Mutate individual\n",
        "    new_individual = []\n",
        "    for gene in individual:\n",
        "        if random.random() < mutation_rate:\n",
        "            new_individual.append(1 - gene) # flip the gene\n",
        "        else:\n",
        "            new_individual.append(gene)\n",
        "    return new_individual\n",
        "\n",
        "def create_next_generation(population, fitness_scores, selection_size, mutation_rate, crossover_rate, crossover_points, battle_participants, elite_num):\n",
        "    # Create next generation\n",
        "    next_generation = []\n",
        "    \n",
        "    # Select individuals for next generation\n",
        "    selected_individuals = select_individuals(population, fitness_scores, selection_size, battle_participants, elite_num)\n",
        "    next_generation.extend(selected_individuals)\n",
        "    #' Crossover individuals:\n",
        "    while len(next_generation) < len(population):\n",
        "        # Select two individuals at random\n",
        "        individual_1, individual_2 = random.sample(selected_individuals, 2)\n",
        "        new_individual_1, new_individual_2 = crossover(individual_1, individual_2, crossover_rate, crossover_points)\n",
        "        next_generation.append(new_individual_1)\n",
        "        # make sure the population size is maintained. Only add second child if there is space:\n",
        "        if len(next_generation) < len(population):\n",
        "            next_generation.append(new_individual_2)\n",
        "\n",
        "    #' Mutate individuals:\n",
        "    for individual in next_generation:\n",
        "        individual = mutate(individual, mutation_rate)\n",
        "        \n",
        "    return next_generation\n",
        "\n",
        "def genetic_algorithm(x_train, y_train, model, population_size=100, selection_size=50, mutation_rate=0.01, crossover_rate=0.3, crossover_points=3, generations=10, battle_participants=4, elite_num=1, bias_strength=100):\n",
        "    \n",
        "    INPUT_SIZE = y_train.shape[0]\n",
        "    \n",
        "    # set up the file to write results to:\n",
        "    counter = 0\n",
        "    base_dir = \"results\"\n",
        "    if not os.path.exists(base_dir):\n",
        "        os.makedirs(base_dir)\n",
        "    while (filename := f\"GA_{counter}.csv\") in os.listdir(base_dir):\n",
        "        counter += 1\n",
        "    path = os.path.join(base_dir, filename)\n",
        "\n",
        "    with open(path, \"w\") as f:\n",
        "        # write hyper parameters to file:\n",
        "        f.write(f\"Hyper parameters,Value\\n\")\n",
        "        f.write(f\"population_size {population_size}\\n\")\n",
        "        f.write(f\"selection_size {selection_size}\\n\")\n",
        "        f.write(f\"mutation_rate {mutation_rate}\\n\")\n",
        "        f.write(f\"crossover_rate {crossover_rate}\\n\")\n",
        "        f.write(f\"crossover_points {crossover_points}\\n\")\n",
        "        f.write(f\"generations {generations}\\n\")\n",
        "        f.write(f\"battle_participants {battle_participants}\\n\")\n",
        "        f.write(f\"elite_num {elite_num}\\n\")\n",
        "        f.write(f\"\\n\")\n",
        "        \n",
        "        # header:\n",
        "        f.write(\"generation,accuracy\\n\")\n",
        "    \n",
        "    best_indv = ()\n",
        "    best_fitness = 0.0\n",
        "    \n",
        "    # Create initial population\n",
        "    population = create_population(population_size, INPUT_SIZE, y_train, bias_strength)\n",
        "\n",
        "    # Evaluate initial population\n",
        "    fitness_scores = []\n",
        "    for individual in population:\n",
        "        # convert to tuples for hashability:\n",
        "        accuracy = evaluate_fitness(model, individual)\n",
        "        fitness_scores.append(accuracy)\n",
        "        \n",
        "        if accuracy > best_fitness:\n",
        "            best_fitness = accuracy\n",
        "            best_indv = individual\n",
        "    \n",
        "    print(f\"Initial population length: {len(population)}\")\n",
        "    print(f\"Initial best fitness: {best_fitness}\")\n",
        "    \n",
        "    # Iterate through generations\n",
        "    start_time = time.time()\n",
        "    for generation in range(generations):\n",
        "        # print(f\"Generation {generation}\")\n",
        "        # Create next generation\n",
        "        old_pop = population[:]\n",
        "        population = create_next_generation(population, fitness_scores, selection_size, mutation_rate, crossover_rate, crossover_points, battle_participants, elite_num)\n",
        "        if old_pop == population:\n",
        "            print(f\"Population has converged at generation {generation}. Exiting...\")\n",
        "            break\n",
        "        # Evaluate next generation\n",
        "        fitness_scores = []\n",
        "        for individual in population:\n",
        "            accuracy = evaluate_fitness(model, individual)\n",
        "            fitness_scores.append(accuracy)\n",
        "            \n",
        "            if accuracy > best_fitness:\n",
        "                best_fitness = accuracy\n",
        "                best_indv = individual\n",
        "        \n",
        "        time_elapsed = time.time() - start_time\n",
        "        unit = \"seconds\"\n",
        "        if time_elapsed > 60:\n",
        "            time_elapsed = time_elapsed/60 \n",
        "            unit = \"minutes\"\n",
        "        if time_elapsed > 60:\n",
        "            time_elapsed = time_elapsed/60\n",
        "            unit = \"hours\"\n",
        "        print(f\"Best fitness after generation {generation}: {round(best_fitness, 2)} took {round(time_elapsed, 2)} {unit} to train.\")\n",
        "\n",
        "        best_in_this_generation = max(fitness_scores)\n",
        "        with open(path, \"a\") as f:\n",
        "            f.write(f\"{generation},{best_in_this_generation}\\n\")\n",
        "        \n",
        "    # clear the cache:\n",
        "    evaluate_fitness.cache_clear()\n",
        "    return best_indv, round(best_fitness, 2)\n",
        "   "
      ]
    },
    {
      "cell_type": "code",
      "execution_count": null,
      "id": "cb9253aa",
      "metadata": {},
      "outputs": [],
      "source": [
        "def myPrunedSubsetMethod(x_train, y_train, model):\n",
        "    best_indv, best_accuracy = genetic_algorithm(x_train, y_train, model, population_size=POPULATION_SIZE, selection_size=SELECTION_SIZE, mutation_rate=MUTATION_RATE, crossover_rate=CROSSOVER_RATE, crossover_points=CROSSOVER_POINTS, generations=GENERATIONS, battle_participants=BATTLE_PARTICIPANTS, elite_num=ELITE_NUM, bias_strength=BIAS_STRENGTH)\n",
        "    pruned_indexes = {i:i for i,elt in enumerate(best_indv) if elt == 1}\n",
        "    print(f\"Length of pruned indexes: {len(pruned_indexes)} to get {best_accuracy} accuracy.\")\n",
        "    return pruned_indexes"
      ]
    },
    {
      "cell_type": "code",
      "execution_count": null,
      "id": "5efb83c3",
      "metadata": {},
      "outputs": [],
      "source": [
        "pruned_indexes = myPrunedSubsetMethod(x_train, y_train, model)"
      ]
    },
    {
      "cell_type": "code",
      "execution_count": null,
      "id": "27922b80",
      "metadata": {},
      "outputs": [],
      "source": [
        "loss, accuracy = trainAndEvaluateModel(x_train, y_train_onehot, x_test, y_test_onehot, model, pruned_indexes)\n",
        "print(f\"Accuracy: {round(accuracy, 2)}\")"
      ]
    },
    {
      "cell_type": "code",
      "execution_count": null,
      "id": "bd4e4e19",
      "metadata": {},
      "outputs": [],
      "source": [
        "# Test:\n",
        "\n",
        "# POPULATION_SIZE  = 10\n",
        "# SELECTION_SIZE   = 5\n",
        "# MUTATION_RATE    = 0.01\n",
        "# CROSSOVER_RATE   = 0.3\n",
        "# CROSSOVER_POINTS = 3\n",
        "# GENERATIONS      = 4\n",
        "# BATTLE_PARTICIPANTS = 2\n",
        "# ELITE_NUM = 1\n",
        "\n",
        "# pruned_indexes = myPrunedSubsetMethod(x_train, y_train, model)\n",
        "# loss, accuracy = trainAndEvaluateModel(x_train, y_train_onehot, x_test, y_test_onehot, model, pruned_indexes)\n",
        "# print(f\"Accuracy on test set: {accuracy}\")"
      ]
    }
  ],
  "metadata": {
    "colab": {
      "provenance": []
    },
    "kernelspec": {
      "display_name": "Python 3",
      "language": "python",
      "name": "python3"
    },
    "language_info": {
      "codemirror_mode": {
        "name": "ipython",
        "version": 3
      },
      "file_extension": ".py",
      "mimetype": "text/x-python",
      "name": "python",
      "nbconvert_exporter": "python",
      "pygments_lexer": "ipython3",
      "version": "3.10.12"
    }
  },
  "nbformat": 4,
  "nbformat_minor": 5
}
