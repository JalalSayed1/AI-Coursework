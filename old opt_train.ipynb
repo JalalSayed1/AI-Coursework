{
  "cells": [
    {
      "cell_type": "markdown",
      "metadata": {
        "colab_type": "text",
        "id": "view-in-github"
      },
      "source": [
        "<a href=\"https://colab.research.google.com/github/JalalSayed1/AI-Coursework/blob/master/opt_train.ipynb\" target=\"_parent\"><img src=\"https://colab.research.google.com/assets/colab-badge.svg\" alt=\"Open In Colab\"/></a>"
      ]
    },
    {
      "cell_type": "markdown",
      "id": "anticipated-consumer",
      "metadata": {
        "id": "anticipated-consumer"
      },
      "source": [
        "In this assignment, we are going to implement see if we can optimally select a subset of training instances for supervised learning."
      ]
    },
    {
      "cell_type": "code",
      "execution_count": 1,
      "metadata": {},
      "outputs": [
        {
          "name": "stdout",
          "output_type": "stream",
          "text": [
            "Defaulting to user installation because normal site-packages is not writeable\n",
            "Requirement already satisfied: scikit-learn in /home/jalal/.local/lib/python3.10/site-packages (1.3.2)\n",
            "Requirement already satisfied: scipy in /home/jalal/.local/lib/python3.10/site-packages (1.11.3)\n",
            "Collecting scipy\n",
            "  Downloading scipy-1.11.4-cp310-cp310-manylinux_2_17_x86_64.manylinux2014_x86_64.whl (36.4 MB)\n",
            "\u001b[2K     \u001b[38;2;114;156;31m━━━━━━━━━━━━━━━━━━━━━━━━━━━━━━━━━━━━━━━━\u001b[0m \u001b[32m36.4/36.4 MB\u001b[0m \u001b[31m2.6 MB/s\u001b[0m eta \u001b[36m0:00:00\u001b[0mm eta \u001b[36m0:00:01\u001b[0m[36m0:00:01\u001b[0m\n",
            "\u001b[?25hRequirement already satisfied: matplotlib in /home/jalal/.local/lib/python3.10/site-packages (3.8.1)\n",
            "Collecting matplotlib\n",
            "  Downloading matplotlib-3.8.2-cp310-cp310-manylinux_2_17_x86_64.manylinux2014_x86_64.whl (11.6 MB)\n",
            "\u001b[2K     \u001b[38;2;114;156;31m━━━━━━━━━━━━━━━━━━━━━━━━━━━━━━━━━━━━━━━━\u001b[0m \u001b[32m11.6/11.6 MB\u001b[0m \u001b[31m2.5 MB/s\u001b[0m eta \u001b[36m0:00:00\u001b[0mm eta \u001b[36m0:00:01\u001b[0m[36m0:00:01\u001b[0m\n",
            "\u001b[?25hRequirement already satisfied: joblib>=1.1.1 in /home/jalal/.local/lib/python3.10/site-packages (from scikit-learn) (1.3.2)\n",
            "Requirement already satisfied: threadpoolctl>=2.0.0 in /home/jalal/.local/lib/python3.10/site-packages (from scikit-learn) (3.2.0)\n",
            "Requirement already satisfied: numpy<2.0,>=1.17.3 in /home/jalal/.local/lib/python3.10/site-packages (from scikit-learn) (1.26.1)\n",
            "Requirement already satisfied: pillow>=8 in /usr/lib/python3/dist-packages (from matplotlib) (9.0.1)\n",
            "Requirement already satisfied: python-dateutil>=2.7 in /home/jalal/.local/lib/python3.10/site-packages (from matplotlib) (2.8.2)\n",
            "Requirement already satisfied: pyparsing>=2.3.1 in /usr/lib/python3/dist-packages (from matplotlib) (2.4.7)\n",
            "Requirement already satisfied: fonttools>=4.22.0 in /home/jalal/.local/lib/python3.10/site-packages (from matplotlib) (4.43.1)\n",
            "Requirement already satisfied: kiwisolver>=1.3.1 in /home/jalal/.local/lib/python3.10/site-packages (from matplotlib) (1.4.5)\n",
            "Requirement already satisfied: contourpy>=1.0.1 in /home/jalal/.local/lib/python3.10/site-packages (from matplotlib) (1.1.1)\n",
            "Requirement already satisfied: packaging>=20.0 in /home/jalal/.local/lib/python3.10/site-packages (from matplotlib) (23.2)\n",
            "Requirement already satisfied: cycler>=0.10 in /home/jalal/.local/lib/python3.10/site-packages (from matplotlib) (0.12.1)\n",
            "Requirement already satisfied: six>=1.5 in /usr/lib/python3/dist-packages (from python-dateutil>=2.7->matplotlib) (1.16.0)\n",
            "Installing collected packages: scipy, matplotlib\n",
            "  Attempting uninstall: scipy\n",
            "    Found existing installation: scipy 1.11.3\n",
            "    Uninstalling scipy-1.11.3:\n",
            "      Successfully uninstalled scipy-1.11.3\n",
            "  Attempting uninstall: matplotlib\n",
            "    Found existing installation: matplotlib 3.8.1\n",
            "    Uninstalling matplotlib-3.8.1:\n",
            "      Successfully uninstalled matplotlib-3.8.1\n",
            "Successfully installed matplotlib-3.8.2 scipy-1.11.4\n",
            "Note: you may need to restart the kernel to use updated packages.\n"
          ]
        }
      ],
      "source": [
        "pip install -U scikit-learn scipy matplotlib"
      ]
    },
    {
      "cell_type": "code",
      "execution_count": 2,
      "id": "higher-nebraska",
      "metadata": {
        "id": "higher-nebraska"
      },
      "outputs": [
        {
          "name": "stderr",
          "output_type": "stream",
          "text": [
            "2023-11-20 10:24:14.612980: I tensorflow/core/util/port.cc:111] oneDNN custom operations are on. You may see slightly different numerical results due to floating-point round-off errors from different computation orders. To turn them off, set the environment variable `TF_ENABLE_ONEDNN_OPTS=0`.\n",
            "2023-11-20 10:24:14.636092: I tensorflow/tsl/cuda/cudart_stub.cc:28] Could not find cuda drivers on your machine, GPU will not be used.\n",
            "2023-11-20 10:24:14.746498: E tensorflow/compiler/xla/stream_executor/cuda/cuda_dnn.cc:9342] Unable to register cuDNN factory: Attempting to register factory for plugin cuDNN when one has already been registered\n",
            "2023-11-20 10:24:14.746537: E tensorflow/compiler/xla/stream_executor/cuda/cuda_fft.cc:609] Unable to register cuFFT factory: Attempting to register factory for plugin cuFFT when one has already been registered\n",
            "2023-11-20 10:24:14.747205: E tensorflow/compiler/xla/stream_executor/cuda/cuda_blas.cc:1518] Unable to register cuBLAS factory: Attempting to register factory for plugin cuBLAS when one has already been registered\n",
            "2023-11-20 10:24:14.806233: I tensorflow/tsl/cuda/cudart_stub.cc:28] Could not find cuda drivers on your machine, GPU will not be used.\n",
            "2023-11-20 10:24:14.807279: I tensorflow/core/platform/cpu_feature_guard.cc:182] This TensorFlow binary is optimized to use available CPU instructions in performance-critical operations.\n",
            "To enable the following instructions: AVX2 AVX512F AVX512_VNNI FMA, in other operations, rebuild TensorFlow with the appropriate compiler flags.\n",
            "2023-11-20 10:24:15.552917: W tensorflow/compiler/tf2tensorrt/utils/py_utils.cc:38] TF-TRT Warning: Could not find TensorRT\n"
          ]
        }
      ],
      "source": [
        "import numpy as np\n",
        "from tensorflow import keras\n",
        "from tensorflow.keras import layers"
      ]
    },
    {
      "cell_type": "markdown",
      "id": "daily-internship",
      "metadata": {
        "id": "daily-internship"
      },
      "source": [
        "We are going to work with the MNIST dataset, a popular dataset for hand-written digit recognition. Here we load the datatset."
      ]
    },
    {
      "cell_type": "code",
      "execution_count": 3,
      "id": "palestinian-texas",
      "metadata": {
        "colab": {
          "base_uri": "https://localhost:8080/"
        },
        "id": "palestinian-texas",
        "outputId": "add68549-ff74-4c9e-b2f2-7199a243f486"
      },
      "outputs": [
        {
          "name": "stdout",
          "output_type": "stream",
          "text": [
            "x_train shape: (60000, 28, 28, 1)\n",
            "Loaded 60000 train samples\n",
            "Loaded 10000 test samples\n"
          ]
        }
      ],
      "source": [
        "# Model / data parameters\n",
        "num_classes = 10\n",
        "input_shape = (28, 28, 1) # 28x28 pixel images with 1 colour channel (grayscale)\n",
        "\n",
        "# Load the data and split it between train and test sets\n",
        "# x = images, y = labels\n",
        "(x_train, y_train), (x_test, y_test) = keras.datasets.mnist.load_data()\n",
        "\n",
        "# Scale images to the [0, 1] range\n",
        "x_train = x_train.astype(\"float32\") / 255 # 0-255 to 0-1\n",
        "x_test = x_test.astype(\"float32\") / 255\n",
        "# Make sure images have shape (28, 28, 1)\n",
        "x_train = np.expand_dims(x_train, -1) # -1 means last dimension\n",
        "x_test = np.expand_dims(x_test, -1)\n",
        "print(\"x_train shape:\", x_train.shape)\n",
        "print(\"Loaded {} train samples\".format(x_train.shape[0]))\n",
        "print(\"Loaded {} test samples\".format(x_test.shape[0]))"
      ]
    },
    {
      "cell_type": "markdown",
      "id": "empty-desert",
      "metadata": {
        "id": "empty-desert"
      },
      "source": [
        "Now corrupt the labels with common types of mistakes. The variable 'noise_probability' controls the amount of errors introduced."
      ]
    },
    {
      "cell_type": "code",
      "execution_count": 4,
      "id": "champion-technician",
      "metadata": {
        "colab": {
          "base_uri": "https://localhost:8080/"
        },
        "id": "champion-technician",
        "outputId": "76618bb0-b52f-4bfb-b5ce-8b3cf2eb9a37"
      },
      "outputs": [
        {
          "name": "stdout",
          "output_type": "stream",
          "text": [
            "Corruptions: {'0->2': 659, '1->8': 652, '9->8': 717, '3->2': 699, '1->5': 662, '3->9': 749, '5->2': 612, '6->5': 676, '1->6': 660, '7->0': 606, '2->3': 719, '8->6': 658, '6->3': 697, '4->5': 576, '0->6': 691, '1->2': 672, '1->9': 692, '4->8': 564, '2->8': 715, '7->6': 640, '8->2': 678, '6->0': 670, '5->9': 652, '0->3': 698, '7->8': 629, '6->9': 703, '9->6': 680, '9->3': 673, '3->8': 709, '9->5': 677, '4->0': 569, '6->2': 674, '4->9': 556, '5->8': 635, '1->0': 704, '0->8': 671, '7->3': 601, '9->2': 690, '2->0': 702, '3->6': 706, '7->2': 632, '3->0': 707, '5->0': 598, '1->3': 637, '0->5': 686, '2->6': 672, '8->5': 707, '4->2': 610, '8->9': 712, '5->3': 619, '8->0': 671, '9->0': 684, '7->9': 601, '7->5': 649, '5->6': 632, '2->5': 683, '3->5': 681, '8->3': 682, '0->9': 694, '4->3': 609, '6->8': 693, '2->9': 694, '4->6': 593}\n",
            "Corrupted indexes: [1, 3, 4, 7, 8, 10, 11, 13, 14, 15]\n"
          ]
        }
      ],
      "source": [
        "import random\n",
        "noise_probability = 0.7\n",
        "\n",
        "def corrupt_label(y, err):\n",
        "    found = np.where(err == y)\n",
        "    if len(found) > 0:\n",
        "        # select an element at random (index != found)\n",
        "        noisy_label = random.choice(err)\n",
        "        while noisy_label == y:\n",
        "            noisy_label = random.choice(err)\n",
        "        return noisy_label\n",
        "    return y\n",
        "\n",
        "# We corrupt the MNIST data with some common mistakes, such as 3-->8, 8-->3, 1-->{4, 7}, 5-->6 etc.\n",
        "def corrupt_labels(y_train, noise_probability):\n",
        "    num_samples = y_train.shape[0]\n",
        "    err_es_1 = np.array([0, 2, 3, 5, 6, 8, 9])\n",
        "    err_es_2 = np.array([1, 4, 7])\n",
        "\n",
        "    corruptions = {}\n",
        "    corrupted_indexes = {}\n",
        "\n",
        "    for i in range(num_samples):\n",
        "        # generate a random number between 0 and 1:\n",
        "        p = random.random()\n",
        "\n",
        "        #! if p > noise_probability, then we do not corrupt the label?\n",
        "        if p < noise_probability:\n",
        "            y = y_train[i]\n",
        "            y_noisy = corrupt_label(y, err_es_1)\n",
        "            if y_noisy == y:\n",
        "                y_noisy = corrupt_label(y, err_es_2)\n",
        "\n",
        "            key = str(y_train[i]) + '->' + str(y_noisy)\n",
        "            corrupted_indexes[i] = i\n",
        "\n",
        "            if key in corruptions:\n",
        "                corruptions[key] += 1\n",
        "            else:\n",
        "                corruptions[key] = 0\n",
        "\n",
        "            y_train[i] = y_noisy\n",
        "\n",
        "    return corruptions, corrupted_indexes\n",
        "\n",
        "corruptions, corrupted_indexes = corrupt_labels(y_train, noise_probability)\n",
        "print (\"Corruptions: \" + str(corruptions))\n",
        "print (\"Corrupted indexes: {}\".format(list(corrupted_indexes.keys())[0:10]))\n"
      ]
    },
    {
      "cell_type": "code",
      "execution_count": 5,
      "id": "quality-gauge",
      "metadata": {
        "id": "quality-gauge"
      },
      "outputs": [],
      "source": [
        "# convert class vectors to binary class matrices\n",
        "y_train_onehot = keras.utils.to_categorical(y_train, num_classes)\n",
        "y_test_onehot = keras.utils.to_categorical(y_test, num_classes)"
      ]
    },
    {
      "cell_type": "markdown",
      "id": "fifth-celebrity",
      "metadata": {
        "id": "fifth-celebrity"
      },
      "source": [
        "Supervised (parametric) training with the (noisy) labeled examples. Note that this model is trained on the entire dataset (the value of the parameter pruned_indexes is null here, which means that we leave out no points), which is noisy (20% of the labels are corrupted). Now the question is: is this the best model that we can train or can we do better?"
      ]
    },
    {
      "cell_type": "code",
      "execution_count": 6,
      "id": "extreme-ethernet",
      "metadata": {
        "colab": {
          "base_uri": "https://localhost:8080/"
        },
        "id": "extreme-ethernet",
        "outputId": "ffd3c54a-09d5-4f13-9fb8-b59425c1c78e"
      },
      "outputs": [
        {
          "name": "stdout",
          "output_type": "stream",
          "text": [
            "Model: \"sequential\"\n",
            "_________________________________________________________________\n",
            " Layer (type)                Output Shape              Param #   \n",
            "=================================================================\n",
            " conv2d (Conv2D)             (None, 26, 26, 32)        320       \n",
            "                                                                 \n",
            " max_pooling2d (MaxPooling2  (None, 13, 13, 32)        0         \n",
            " D)                                                              \n",
            "                                                                 \n",
            " flatten (Flatten)           (None, 5408)              0         \n",
            "                                                                 \n",
            " dropout (Dropout)           (None, 5408)              0         \n",
            "                                                                 \n",
            " dense (Dense)               (None, 10)                54090     \n",
            "                                                                 \n",
            "=================================================================\n",
            "Total params: 54410 (212.54 KB)\n",
            "Trainable params: 54410 (212.54 KB)\n",
            "Non-trainable params: 0 (0.00 Byte)\n",
            "_________________________________________________________________\n"
          ]
        }
      ],
      "source": [
        "batch_size = 128\n",
        "epochs = 3 # very high epochs might overfit the model.\n",
        "validation_split=0.1\n",
        "\n",
        "\n",
        "model = keras.Sequential(\n",
        "    [\n",
        "        keras.Input(shape=input_shape),\n",
        "        layers.Conv2D(32, kernel_size=(3, 3), activation=\"relu\"),\n",
        "        layers.MaxPooling2D(pool_size=(2, 2)),\n",
        "        layers.Flatten(),\n",
        "        layers.Dropout(0.5),\n",
        "        layers.Dense(num_classes, activation=\"softmax\"),\n",
        "    ]\n",
        ")\n",
        "model.summary()\n",
        "model.compile(loss=\"categorical_crossentropy\", optimizer=\"adam\", metrics=[\"accuracy\"])\n",
        "\n",
        "def prune_points(x_train, y_train, pruned_indexes):\n",
        "    num_samples = x_train.shape[0] # = 60000\n",
        "    x_train_pruned = []\n",
        "    y_train_pruned = []\n",
        "    for i in range(num_samples):\n",
        "        if not i in pruned_indexes:\n",
        "            x_train_pruned.append(x_train[i])\n",
        "            y_train_pruned.append(y_train[i])\n",
        "\n",
        "    return np.array(x_train_pruned), np.array(y_train_pruned)\n",
        "\n",
        "def trainAndEvaluateModel(x_train, y_train, x_test, y_test, model, pruned_indexes):\n",
        "\n",
        "    if not pruned_indexes == None:\n",
        "        x_train_pruned, y_train_pruned = prune_points(x_train, y_train, pruned_indexes)\n",
        "    else:\n",
        "        x_train_pruned = x_train\n",
        "        y_train_pruned = y_train\n",
        "\n",
        "    # start training the model:\n",
        "    model.fit(x_train_pruned, y_train_pruned, batch_size=batch_size, epochs=epochs)\n",
        "    model.evaluate(x_test, y_test)\n",
        "    keras.backend.clear_session() # remove previous training weights\n"
      ]
    },
    {
      "cell_type": "markdown",
      "id": "indie-waterproof",
      "metadata": {
        "id": "indie-waterproof"
      },
      "source": [
        "And we call the following function to train a model on the entire dataset and evaluate it on the test set. The accuracy on the test set is quite good, but can we do better?"
      ]
    },
    {
      "cell_type": "code",
      "execution_count": 7,
      "id": "embedded-staff",
      "metadata": {
        "colab": {
          "base_uri": "https://localhost:8080/"
        },
        "id": "embedded-staff",
        "outputId": "a88bc645-fc02-40a7-d5a3-41e9e1d5ebb8"
      },
      "outputs": [
        {
          "name": "stdout",
          "output_type": "stream",
          "text": [
            "Epoch 1/3\n",
            "469/469 [==============================] - 8s 15ms/step - loss: 1.9944 - accuracy: 0.2448\n",
            "Epoch 2/3\n",
            "469/469 [==============================] - 9s 18ms/step - loss: 1.9496 - accuracy: 0.2721\n",
            "Epoch 3/3\n",
            "469/469 [==============================] - 6s 13ms/step - loss: 1.9398 - accuracy: 0.2789\n",
            "313/313 [==============================] - 1s 1ms/step - loss: 1.3758 - accuracy: 0.8898\n"
          ]
        }
      ],
      "source": [
        "trainAndEvaluateModel(x_train, y_train_onehot, x_test, y_test_onehot, model, None)"
      ]
    },
    {
      "cell_type": "markdown",
      "id": "structured-lithuania",
      "metadata": {
        "id": "structured-lithuania"
      },
      "source": [
        "You need to implement a subset selection function that when called will return a subset of instances which will be used to train the model. This setup ensures that you also pass in another dictionary which contains the indexes of the instances that you would not want to use while training the model, i.e., it should contain a list of indexes that you would decide to **leave out** for training.\n",
        "\n",
        "Here's the code and a sample implementation that returns a randomly chosen set of instances that you are to be left out. Since we chose 70% probability of label corruption (check the **noise_probability** parameter), we also select a subset where we leave out the same proportion of points. This is a baseline implementation and obviously you should aim to achieve better results than this."
      ]
    },
    {
      "cell_type": "code",
      "execution_count": 8,
      "id": "unique-operator",
      "metadata": {
        "id": "unique-operator"
      },
      "outputs": [],
      "source": [
        "# Here 'x_train', 'y_train' and model' are an unused parameters. But you may get better results by leveraging these.\n",
        "def baseLinePrunedSubsetMethod(x_train, y_train, model):\n",
        "    pruned_indexes = {}\n",
        "    num_samples = x_train.shape[0]\n",
        "    for i in range(num_samples):\n",
        "        p = random.random()\n",
        "\n",
        "        if p < noise_probability: # this is the global variable (only useful for this naive approach)\n",
        "            pruned_indexes[i] = i\n",
        "    return pruned_indexes"
      ]
    },
    {
      "cell_type": "markdown",
      "id": "stunning-steel",
      "metadata": {
        "id": "stunning-steel"
      },
      "source": [
        "Let's see how this naive baseline works."
      ]
    },
    {
      "cell_type": "code",
      "execution_count": 9,
      "id": "formed-refrigerator",
      "metadata": {
        "colab": {
          "base_uri": "https://localhost:8080/"
        },
        "id": "formed-refrigerator",
        "outputId": "234122b6-f927-40d9-a0de-38f4de226c5e"
      },
      "outputs": [
        {
          "name": "stdout",
          "output_type": "stream",
          "text": [
            "Epoch 1/3\n",
            "141/141 [==============================] - 2s 14ms/step - loss: 1.9359 - accuracy: 0.2781\n",
            "Epoch 2/3\n",
            "141/141 [==============================] - 2s 13ms/step - loss: 1.9265 - accuracy: 0.2807\n",
            "Epoch 3/3\n",
            "141/141 [==============================] - 2s 13ms/step - loss: 1.9198 - accuracy: 0.2808\n",
            "313/313 [==============================] - 1s 2ms/step - loss: 1.4109 - accuracy: 0.8898\n"
          ]
        }
      ],
      "source": [
        "pruned_indexes = baseLinePrunedSubsetMethod(x_train, y_train, model)\n",
        "# print (f\"pruned_indexes: {pruned_indexes}\")\n",
        "trainAndEvaluateModel(x_train, y_train_onehot, x_test, y_test_onehot, model, pruned_indexes)"
      ]
    },
    {
      "cell_type": "markdown",
      "id": "backed-cache",
      "metadata": {
        "id": "backed-cache"
      },
      "source": [
        "Let's now see if we had known what points were actually corrupted (more of a hypothetical unrealistic situation), does leaving out those points actually improve the model's effectiveness. It turns out that it does!"
      ]
    },
    {
      "cell_type": "code",
      "execution_count": 10,
      "id": "amino-orientation",
      "metadata": {
        "colab": {
          "base_uri": "https://localhost:8080/"
        },
        "id": "amino-orientation",
        "outputId": "db6011ba-9b80-4cc4-d030-97206836c785"
      },
      "outputs": [
        {
          "name": "stdout",
          "output_type": "stream",
          "text": [
            "Epoch 1/3\n",
            "143/143 [==============================] - 2s 12ms/step - loss: 0.3704 - accuracy: 0.9185\n",
            "Epoch 2/3\n",
            "143/143 [==============================] - 2s 13ms/step - loss: 0.1829 - accuracy: 0.9486\n",
            "Epoch 3/3\n",
            "143/143 [==============================] - 2s 12ms/step - loss: 0.1485 - accuracy: 0.9594\n",
            "313/313 [==============================] - 0s 1ms/step - loss: 0.1231 - accuracy: 0.9637\n"
          ]
        }
      ],
      "source": [
        "\n",
        "#! This keeps going up and up: bc we keep training the model on the same data. \n",
        "trainAndEvaluateModel(x_train, y_train_onehot, x_test, y_test_onehot, model, corrupted_indexes)"
      ]
    },
    {
      "cell_type": "markdown",
      "id": "bright-constitutional",
      "metadata": {
        "id": "bright-constitutional"
      },
      "source": [
        "Your task is to implement your own version of (say of name **myPrunedSubsetMethod** (which should take as arguments x_train, y_train, and the model). The function should return a dictionary of indexes that are to be left out. Plug your function in and evaluate the results. Write a thorough report on the methodology and analyse the results.\n",
        "\n",
        "Some hints:\n",
        "You can approach this as a discrete state space optimisation problem, where firstly you can define a \"selection batch size\" (this is not the same as training batch size), which decides which batch of instances you're going to leave out. For instance, if you are in a state where the training set is $X$, you may select (by some heuristics) which points you're gonna leave out (let that set be $\\delta \\subset X$) so that a child state becomes $X' = X - \\delta$. Similarly, if you choose a different $\\delta$ you get a different child state. You then need to train and evaluate (call the function *trainAndEvaluateModel*) to see if that child state led to an improvement or not.\n",
        "\n",
        "You are free to use any algorithm, e.g., simulated annealing, A* search, genetic algorithm etc. to implement this discrete state space optimisation."
      ]
    },
    {
      "cell_type": "markdown",
      "metadata": {},
      "source": [
        "<p style=\"color:red; height:300px\"> ____________________________________________________________________________________________________________________________________________________________________________________________________________________________________________________________________________________________________________________________________"
      ]
    },
    {
      "cell_type": "code",
      "execution_count": 2,
      "metadata": {},
      "outputs": [
        {
          "name": "stdout",
          "output_type": "stream",
          "text": [
            "Corruptions: {'5->0': 633, '0->5': 682, '4->5': 596, '1->2': 672, '9->5': 652, '2->3': 715, '1->8': 651, '3->8': 702, '4->0': 588, '3->0': 704, '3->6': 705, '6->0': 693, '1->0': 649, '7->9': 608, '2->0': 685, '6->5': 679, '0->3': 753, '9->6': 732, '1->3': 654, '2->8': 696, '4->2': 550, '3->9': 727, '2->5': 674, '7->8': 608, '8->6': 706, '5->9': 622, '7->6': 645, '8->9': 656, '9->0': 708, '9->8': 654, '0->6': 689, '8->2': 669, '4->3': 580, '4->9': 621, '1->9': 712, '0->9': 685, '6->8': 696, '7->3': 611, '9->2': 719, '6->3': 655, '0->8': 692, '4->6': 601, '7->0': 637, '1->5': 658, '3->5': 717, '8->3': 668, '6->9': 719, '2->6': 718, '9->3': 699, '5->2': 609, '1->6': 663, '2->9': 691, '7->2': 656, '8->5': 688, '6->2': 706, '5->3': 602, '7->5': 619, '5->8': 613, '0->2': 668, '4->8': 595, '3->2': 729, '5->6': 659, '8->0': 736}\n",
            "Corrupted indexes: [0, 1, 2, 3, 4, 5, 6, 7, 8, 9]\n",
            "Model: \"sequential_1\"\n",
            "_________________________________________________________________\n",
            " Layer (type)                Output Shape              Param #   \n",
            "=================================================================\n",
            " conv2d_1 (Conv2D)           (None, 26, 26, 32)        320       \n",
            "                                                                 \n",
            " max_pooling2d_1 (MaxPoolin  (None, 13, 13, 32)        0         \n",
            " g2D)                                                            \n",
            "                                                                 \n",
            " flatten_1 (Flatten)         (None, 5408)              0         \n",
            "                                                                 \n",
            " dropout_1 (Dropout)         (None, 5408)              0         \n",
            "                                                                 \n",
            " dense_1 (Dense)             (None, 10)                54090     \n",
            "                                                                 \n",
            "=================================================================\n",
            "Total params: 54410 (212.54 KB)\n",
            "Trainable params: 54410 (212.54 KB)\n",
            "Non-trainable params: 0 (0.00 Byte)\n",
            "_________________________________________________________________\n"
          ]
        }
      ],
      "source": [
        "loss_list = []\n",
        "acc_list = []\n",
        "root = {\"State\": \"X\", \"Accuracy\" : 0, \"Loss\" : 0, \"Pruned\" : {}, \"Next States\": []}\n",
        "\n",
        "#! remove this:\n",
        "from sklearn.metrics import accuracy_score\n",
        "\n",
        "import numpy as np\n",
        "from tensorflow import keras\n",
        "from tensorflow.keras import layers\n",
        "\n",
        "# Model / data parameters\n",
        "num_classes = 10\n",
        "input_shape = (28, 28, 1) # 28x28 pixel images with 1 colour channel (grayscale)\n",
        "\n",
        "# Load the data and split it between train and test sets\n",
        "# x = images, y = labels\n",
        "(x_train, y_train), (x_test, y_test) = keras.datasets.mnist.load_data()\n",
        "\n",
        "# Scale images to the [0, 1] range\n",
        "x_train = x_train.astype(\"float32\") / 255 # 0-255 to 0-1\n",
        "x_test = x_test.astype(\"float32\") / 255\n",
        "# Make sure images have shape (28, 28, 1)\n",
        "x_train = np.expand_dims(x_train, -1) # -1 means last dimension\n",
        "x_test = np.expand_dims(x_test, -1)\n",
        "\n",
        "import random\n",
        "noise_probability = 0.7\n",
        "\n",
        "def corrupt_label(y, err):\n",
        "    found = np.where(err == y)\n",
        "    if len(found) > 0: #! if y (true label if is in err)\n",
        "        # select an element at random (index != found)\n",
        "        noisy_label = random.choice(err)\n",
        "        while noisy_label == y:\n",
        "            noisy_label = random.choice(err)\n",
        "        return noisy_label\n",
        "    return y #! if y is not in err, then return y (true label) then use error set 2\n",
        "\n",
        "# We corrupt the MNIST data with some common mistakes, such as 3-->8, 8-->3, 1-->{4, 7}, 5-->6 etc.\n",
        "def corrupt_labels(y_train, noise_probability):\n",
        "    num_samples = y_train.shape[0]\n",
        "    err_es_1 = np.array([0, 2, 3, 5, 6, 8, 9])\n",
        "    err_es_2 = np.array([1, 4, 7])\n",
        "\n",
        "    corruptions = {}\n",
        "    corrupted_indexes = {}\n",
        "\n",
        "    for i in range(num_samples):\n",
        "        # generate a random number between 0 and 1:\n",
        "        p = random.random()\n",
        "\n",
        "        #! if p > noise_probability, then we do not corrupt the label?\n",
        "        if p < noise_probability:\n",
        "            y = y_train[i] # true label\n",
        "            y_noisy = corrupt_label(y, err_es_1)\n",
        "            if y_noisy == y:\n",
        "                y_noisy = corrupt_label(y, err_es_2)\n",
        "\n",
        "            key = str(y_train[i]) + '->' + str(y_noisy)\n",
        "            corrupted_indexes[i] = i\n",
        "\n",
        "            if key in corruptions:\n",
        "                corruptions[key] += 1\n",
        "            else:\n",
        "                corruptions[key] = 0\n",
        "\n",
        "            y_train[i] = y_noisy\n",
        "\n",
        "    return corruptions, corrupted_indexes\n",
        "\n",
        "corruptions, corrupted_indexes = corrupt_labels(y_train, noise_probability)\n",
        "print (\"Corruptions: \" + str(corruptions))\n",
        "print (\"Corrupted indexes: {}\".format(list(corrupted_indexes.keys())[0:10]))\n",
        "\n",
        "# convert class vectors to binary class matrices\n",
        "y_train_onehot = keras.utils.to_categorical(y_train, num_classes)\n",
        "y_test_onehot = keras.utils.to_categorical(y_test, num_classes)\n",
        "\n",
        "\n",
        "\n",
        "batch_size = 128\n",
        "epochs = 3 # very high epochs might overfit the model.\n",
        "validation_split=0.1\n",
        "\n",
        "\n",
        "model = keras.Sequential(\n",
        "    [\n",
        "        keras.Input(shape=input_shape),\n",
        "        layers.Conv2D(32, kernel_size=(3, 3), activation=\"relu\"),\n",
        "        layers.MaxPooling2D(pool_size=(2, 2)),\n",
        "        layers.Flatten(),\n",
        "        layers.Dropout(0.5),\n",
        "        layers.Dense(num_classes, activation=\"softmax\"),\n",
        "    ]\n",
        ")\n",
        "model.summary()\n",
        "model.compile(loss=\"categorical_crossentropy\", optimizer=\"adam\", metrics=[\"accuracy\"])\n",
        "\n",
        "def prune_points(x_train, y_train, pruned_indexes):\n",
        "    num_samples = x_train.shape[0] # = 60000\n",
        "    x_train_pruned = []\n",
        "    y_train_pruned = []\n",
        "    for i in range(num_samples):\n",
        "        if not i in pruned_indexes:\n",
        "            x_train_pruned.append(x_train[i])\n",
        "            y_train_pruned.append(y_train[i])\n",
        "\n",
        "    return np.array(x_train_pruned), np.array(y_train_pruned)\n",
        "\n",
        "def trainAndEvaluateModel(x_train, y_train, x_test, y_test, model, pruned_indexes):\n",
        "\n",
        "    if not pruned_indexes == None:\n",
        "        x_train_pruned, y_train_pruned = prune_points(x_train, y_train, pruned_indexes)\n",
        "    else:\n",
        "        x_train_pruned = x_train\n",
        "        y_train_pruned = y_train\n",
        "\n",
        "    # start training the model:\n",
        "    model.fit(x_train_pruned, y_train_pruned, batch_size=batch_size, epochs=epochs)\n",
        "    \n",
        "    #! remove this:\n",
        "    y_prob = model.predict(x_test)  # Get predictions\n",
        "    y_pred = np.argmax(y_prob, axis=1)  # Convert to class labels\n",
        "    # If y_test is one-hot encoded, convert it back to labels\n",
        "    y_test_labels = np.argmax(y_test, axis=1)\n",
        "    accuracy = accuracy_score(y_test_labels, y_pred)\n",
        "    print(f\"Accuracy: {accuracy}\")\n",
        "    \n",
        "    #! if my algorithm must use the loss or accuracy, then I can mention in the report:\n",
        "    loss, accuracy = model.evaluate(x_test, y_test)\n",
        "    # loss_list.append(loss) #! remove this\n",
        "    # acc_list.append(accuracy) #! remove this\n",
        "    #! ------------------------\n",
        "\n",
        "    keras.backend.clear_session() # remove previous training weights\n",
        "\n",
        "    #! remove this:    \n",
        "    return loss, accuracy\n"
      ]
    },
    {
      "cell_type": "code",
      "execution_count": 14,
      "metadata": {},
      "outputs": [],
      "source": [
        "\n",
        "#! moved out to archive"
      ]
    },
    {
      "cell_type": "code",
      "execution_count": 3,
      "metadata": {},
      "outputs": [],
      "source": [
        "def get_random_index(y_train, risk_labels):\n",
        "    # Find indices of all elements in y_train that match any of the risk labels\n",
        "    risk_indices = np.where(np.isin(y_train, risk_labels))[0]\n",
        "\n",
        "    # If there are no matching indices, return None or handle as needed\n",
        "    if len(risk_indices) == 0:\n",
        "        return None\n",
        "\n",
        "    # Randomly select an index from the risk indices\n",
        "    return np.random.choice(risk_indices, size=1, replace=False)[0]\n",
        "\n",
        "def heuristic_to_identify_samples(x_train, y_train, num_samples_to_remove):\n",
        "    #! ASSUMPTION: might have to have num_samples_to_remove be less than len(y_train or x_train) for this to work\n",
        "    high_risk_labels = [0, 2, 3, 5, 6, 8, 9]\n",
        "    medium_risk_labels = [1, 4, 7]\n",
        "\n",
        "    # sample_risks = []\n",
        "\n",
        "    # for index, label in enumerate(y_train):\n",
        "    #     if label in high_risk_labels:\n",
        "    #         risk = 0.6  # 60% chance of being mislabeled\n",
        "    #     elif label in medium_risk_labels:\n",
        "    #         risk = 0.23  # 23% chance\n",
        "\n",
        "    #     sample_risks.append((index, risk))\n",
        "\n",
        "    # Sort samples by descending risk (higher risk first)\n",
        "    # sorted_samples = sorted(sample_risks, key=lambda x: x[1], reverse=True)\n",
        "\n",
        "    # Select top 'num_samples_to_remove' indexes\n",
        "    # indexes_to_remove = [index for index, risk in sorted_samples[:num_samples_to_remove]]\n",
        "\n",
        "    num_of_high_risk = int(num_samples_to_remove * 0.6)\n",
        "    num_of_medium_risk = int(num_samples_to_remove * 0.23)\n",
        "    possible_num_of_index_to_remove = num_of_high_risk + num_of_medium_risk\n",
        "    \n",
        "    # a set of indexes to remove:\n",
        "    indexes_to_remove = set()\n",
        "    \n",
        "    \n",
        "    #! risk this loop doesn't terminate bc we might not have enough samples to remove:\n",
        "    # num_of_high_risk > 0 and\n",
        "    # while len(indexes_to_remove) < num_samples_to_remove and (num_of_high_risk > 0 or num_of_medium_risk > 0):\n",
        "    # while len(indexes_to_remove) < possible_num_of_index_to_remove:\n",
        "    print(f\"len(indexes_to_remove): {len(indexes_to_remove)}\")\n",
        "    # index = np.random.choice(np.where(y_train == random.choice(high_risk_labels))[0], size=1, replace=False)\n",
        "    # get num_of_high_risk indexes from data:\n",
        "    while num_of_high_risk > 0 and len(indexes_to_remove) < possible_num_of_index_to_remove:\n",
        "        #! check if index is None:\n",
        "        #! ASSUMPTION: if there is no enough elements, get_random_index might return the same index over and over again. preventing the loop from terminating:\n",
        "        index = get_random_index(y_train, high_risk_labels)\n",
        "        if not index in indexes_to_remove:\n",
        "            indexes_to_remove.add(index)\n",
        "            num_of_high_risk -= 1\n",
        "            \n",
        "    print(f\"len(indexes_to_remove) 2: {len(indexes_to_remove)}\")\n",
        "    while num_of_medium_risk > 0 and len(indexes_to_remove) < possible_num_of_index_to_remove:\n",
        "        #! check if index is None:\n",
        "        index = get_random_index(y_train, medium_risk_labels)\n",
        "        if not index in indexes_to_remove:\n",
        "            indexes_to_remove.add(index)\n",
        "            num_of_medium_risk -= 1\n",
        "        \n",
        "        \n",
        "        # if not index in indexes_to_remove:\n",
        "        #     indexes_to_remove.extend(index)\n",
        "        #     num_of_high_risk -= 1\n",
        "            \n",
        "    # while num_of_medium_risk > 0 and len(indexes_to_remove) < num_samples_to_remove:\n",
        "    #     index = np.random.choice(np.where(y_train == random.choice(medium_risk_labels))[0], size=1, replace=False)\n",
        "    #     if not index in indexes_to_remove:\n",
        "    #         indexes_to_remove.extend(index)\n",
        "    #         num_of_medium_risk -= 1\n",
        "\n",
        "    return indexes_to_remove\n",
        "\n",
        "\n",
        "import numpy as np\n",
        "import random\n",
        "\n",
        "def test_heuristic_to_identify_samples():\n",
        "    # Create a mock dataset\n",
        "    y_train_mock = np.array([0, 2, 3, 1, 4, 7, 5, 6, 8, 9, 0, 2])  # Example labels\n",
        "    num_samples_to_remove = len(y_train_mock)-2  # Example number of samples to remove\n",
        "\n",
        "    # Expected outcome\n",
        "    expected_high_risk_labels = [0, 2, 3, 5, 6, 8, 9]\n",
        "    expected_indexes = []\n",
        "\n",
        "    for i, label in enumerate(y_train_mock):\n",
        "        if label in expected_high_risk_labels:\n",
        "            expected_indexes.append(i)\n",
        "            if len(expected_indexes) == num_samples_to_remove:\n",
        "                break\n",
        "\n",
        "    # Call the function\n",
        "    actual_indexes = heuristic_to_identify_samples(None, y_train_mock, num_samples_to_remove)\n",
        "    print(f\"{len(actual_indexes)} != {num_samples_to_remove}\")\n",
        "    # Assert the results\n",
        "    # assert len(actual_indexes) == num_samples_to_remove, \"Incorrect number of samples removed\"\n",
        "    # assert all([index in expected_indexes for index in actual_indexes]), \"Incorrect indexes identified for removal\"\n",
        "\n",
        "def divide_into_even_subsets(array, subset_percentage=10):\n",
        "    #! refactor this:\n",
        "    \"\"\"\n",
        "    Divides an array into smaller subsets, each approximately of a specified percentage size of the original array.\n",
        "    The function evenly distributes any extra elements among the subsets.\n",
        "    \n",
        "    :param array: The original NumPy array to divide.\n",
        "    :param subset_percentage: The size of each subset as a percentage of the original array.\n",
        "    :return: A list of NumPy arrays, each being a subset of the original array.\n",
        "    \"\"\"\n",
        "    total_size = len(array)\n",
        "    subset_base_size = total_size * subset_percentage // 100\n",
        "    extra_elements = total_size - (subset_base_size * 10)\n",
        "    \n",
        "    subsets = []\n",
        "    start_index = 0\n",
        "\n",
        "    for i in range(10):\n",
        "        end_index = start_index + subset_base_size + (1 if i < extra_elements else 0)\n",
        "        subsets.append(array[start_index:end_index])\n",
        "        start_index = end_index\n",
        "\n",
        "    return subsets\n",
        "\n",
        "def find_most_representative_subset(subsets, full_data):\n",
        "    \"\"\"\n",
        "    Finds the subset that is most representative of the full dataset based on mean and standard deviation.\n",
        "    \n",
        "    :param subsets: A list of NumPy arrays (subsets).\n",
        "    :param full_data: The original full dataset as a NumPy array.\n",
        "    :return: The index of the most representative subset.\n",
        "    \"\"\"\n",
        "    full_mean = np.mean(full_data)\n",
        "    full_std = np.std(full_data)\n",
        "\n",
        "    closest_mean_index = None\n",
        "    closest_mean_diff = float('inf')\n",
        "\n",
        "    for i, subset in enumerate(subsets):\n",
        "        subset_mean = np.mean(subset)\n",
        "        subset_std = np.std(subset)\n",
        "\n",
        "        mean_diff = abs(subset_mean - full_mean)\n",
        "        std_diff = abs(subset_std - full_std)\n",
        "\n",
        "        # Combine the differences in mean and standard deviation\n",
        "        total_diff = mean_diff + std_diff\n",
        "\n",
        "        if total_diff < closest_mean_diff:\n",
        "            closest_mean_diff = total_diff\n",
        "            closest_mean_index = i\n",
        "\n",
        "    return closest_mean_index\n",
        "\n",
        "# initially the pruned dataset is the entire dataset:\n",
        "x_train_pruned, y_train_pruned = x_train, y_train\n",
        "highest_accuracy = 0\n",
        "depth = 0"
      ]
    },
    {
      "cell_type": "code",
      "execution_count": 4,
      "metadata": {},
      "outputs": [
        {
          "ename": "",
          "evalue": "",
          "output_type": "error",
          "traceback": [
            "\u001b[1;31mThe Kernel crashed while executing code in the the current cell or a previous cell. Please review the code in the cell(s) to identify a possible cause of the failure. Click <a href='https://aka.ms/vscodeJupyterKernelCrash'>here</a> for more info. View Jupyter <a href='command:jupyter.viewOutput'>log</a> for further details."
          ]
        }
      ],
      "source": [
        "import matplotlib.pyplot as plt\n",
        "\n",
        "def myPrunedSubsetMethod(x_train, y_train, model):\n",
        "    \n",
        "    pruned_indexes = {} # to be returned\n",
        "    temp_pruned_indexes_1 = {}\n",
        "    temp_pruned_indexes_2 = {}\n",
        "    counter = 0 # for naming the nodes (first will 1 as 0 is technically the root)\n",
        "    \n",
        "    divide_factor = 10 # %\n",
        "    x_subsets = divide_into_even_subsets(x_train, subset_percentage=divide_factor)\n",
        "    y_subsets = divide_into_even_subsets(y_train, subset_percentage=divide_factor)\n",
        "    \n",
        "    most_representative_x_subset_index = find_most_representative_subset(x_subsets, x_train)\n",
        "    most_representative_y_subset_index = find_most_representative_subset(y_subsets, y_train)\n",
        "    \n",
        "    # validation_x_set = x_subsets[most_representative_x_subset_index]\n",
        "    # validation_y_set = y_subsets[most_representative_x_subset_index]\n",
        "    # all the other subsets are training sets:\n",
        "    # training_x_set = np.concatenate([x for i, x in enumerate(x_subsets) if i != most_representative_x_subset_index])\n",
        "    # training_y_set = np.concatenate([y for i, y in enumerate(y_subsets) if i != most_representative_y_subset_index])\n",
        "    \n",
        "    # loss, accuracy = trainAndEvaluateModel(training_x_set, training_y_set, validation_x_set, validation_y_set, model, None)\n",
        "    \n",
        "    \n",
        "    \n",
        "    # to get incremented as training progresses to find optimal number of samples to remove:\n",
        "    min_num_samples_to_remove = 1\n",
        "    \n",
        "myPrunedSubsetMethod(x_train, y_train, model)"
      ]
    },
    {
      "cell_type": "code",
      "execution_count": null,
      "id": "_86qcqRrYRxd",
      "metadata": {
        "id": "_86qcqRrYRxd"
      },
      "outputs": [],
      "source": [
        "# def myPrunedSubsetMethod(x_train, y_train, model):\n",
        "\n",
        "#     pruned_indexes = {} # to be returned\n",
        "#     temp_pruned_indexes_1 = {}\n",
        "#     temp_pruned_indexes_2 = {}\n",
        "#     counter = 0 # for naming the nodes (first will 1 as 0 is technically the root)\n",
        "    \n",
        "#     # global x_train_pruned\n",
        "#     # global y_train_pruned\n",
        "    \n",
        "#     # to get incremented as training progresses to find optimal number of samples to remove:\n",
        "#     min_num_samples_to_remove = 1\n",
        "\n",
        "\n",
        "\n",
        "\n",
        "\n",
        "#     base_loss, base_accuracy = trainAndEvaluateModel(x_train, y_train_onehot, x_test, y_test_onehot, model, None)\n",
        "#     highest_accuracy = base_accuracy  \n",
        "    \n",
        "\n",
        "#     indexes_to_remove = heuristic_to_identify_samples(x_train, y_train, min_num_samples_to_remove)\n",
        "    \n",
        "#     x_train_pruned = np.delete(x_train, indexes_to_remove, axis=0)\n",
        "#     y_train_pruned = np.delete(y_train, indexes_to_remove, axis=0)\n",
        "\n",
        "#     # 1. train the model on the entire dataset. (start state)\n",
        "#     # 2. get the predictions.\n",
        "#     base_loss, base_accuracy = trainAndEvaluateModel(x_train_pruned, y_train_onehot, x_test, y_test_onehot, model, None)\n",
        "    \n",
        "#     highest_accuracy = base_accuracy\n",
        "#     # 3. improved accuracy (accuracy - base_accuracy) is the reward function (what is the utility?). Make the state diagram:\n",
        "#     update_accuracy_loss(root, base_accuracy, base_loss) # nothing is pruned at the start state\n",
        "    \n",
        "    \n",
        "    \n",
        "    #! think about how to do this: I'm not making a graph anymore\n",
        "    \n",
        "    \n",
        "\n",
        "    # 4. retrain the model without a subset of the data (next state, first child of start state).\n",
        "    # remove 1% of the data:\n",
        "    # num_samples = x_train_pruned.shape[0]\n",
        "    \n",
        "    # # remove_percentage = 0.001\n",
        "    # # depth = 0\n",
        "    \n",
        "    # try:\n",
        "    #     while highest_accuracy < 0.90 and depth < 10:\n",
        "            \n",
        "    #         print(f\"\\nRunning iteration {depth}\")\n",
        "            \n",
        "    #         counter, accuracy_1, temp_pruned_indexes_1 = retrain_model(x_train_pruned, y_train_pruned, num_samples, counter)\n",
        "            \n",
        "    #         # 6. keep track of the highest accuracy. if we get >95% then stop.\n",
        "    #         if accuracy_1 > highest_accuracy:\n",
        "    #             print (\"Accuracy improved!\")\n",
        "    #             highest_accuracy = accuracy_1\n",
        "    #             if accuracy_1 > 0.95:\n",
        "    #                 break\n",
        "                \n",
        "\n",
        "    #         # 5. retrain the model without another subset of the data (next state, second child of start state).\n",
        "    #         counter, accuracy_2, temp_pruned_indexes_2 = retrain_model(x_train_pruned, y_train_pruned, num_samples, counter)\n",
        "\n",
        "    #         # 6. keep track of the highest accuracy. if we get >95% then stop.\n",
        "    #         if accuracy_2 > highest_accuracy:\n",
        "    #             print (\"Accuracy improved!\")\n",
        "    #             highest_accuracy = accuracy_2\n",
        "    #             if accuracy_2 > 0.95:\n",
        "    #                 break\n",
        "            \n",
        "    #         # 7. compare the two accuracies. keep the one with the highest accuracy. (next state, first child of first child of start state).\n",
        "    #         if accuracy_1 > accuracy_2:\n",
        "    #             print(f\"Accuracy 1: {accuracy_1} > Accuracy 2: {accuracy_2}\")\n",
        "    #             x_train_pruned, y_train_pruned = prune_points(x_train_pruned, y_train_pruned, temp_pruned_indexes_1)\n",
        "    #             pruned_indexes = temp_pruned_indexes_1\n",
        "    #         else:\n",
        "    #             print(f\"Accuracy 2: {accuracy_2} > Accuracy 1: {accuracy_1}\")\n",
        "    #             x_train_pruned, y_train_pruned = prune_points(x_train_pruned, y_train_pruned, temp_pruned_indexes_2)\n",
        "    #             pruned_indexes = temp_pruned_indexes_2\n",
        "                \n",
        "    # except KeyboardInterrupt as e:\n",
        "    #     print(e)\n",
        "    #     return pruned_indexes\n",
        "        \n",
        "    # else:\n",
        "    #     depth += 1\n",
        "    #     return pruned_indexes\n",
        "    \n",
        "    # 7. keep doing so until d depth or highest accuracy achieved? making a binary search tree.\n",
        "\n",
        "    # 8. use a search algorithm to find the best path to the goal state (highest accuracy). Use some heuristic that comes from the rules of how we corrupt the data (i.e. some digits are never corrupted. what digits get corrupted to what?).\n",
        "    \n",
        "    # depth += 1\n",
        "    \n",
        "    # return pruned_indexes\n"
      ]
    },
    {
      "cell_type": "code",
      "execution_count": null,
      "metadata": {},
      "outputs": [
        {
          "name": "stdout",
          "output_type": "stream",
          "text": [
            "Epoch 1/3\n",
            "469/469 [==============================] - 6s 12ms/step - loss: 1.9967 - accuracy: 0.2405\n",
            "Epoch 2/3\n",
            "469/469 [==============================] - 6s 12ms/step - loss: 1.9536 - accuracy: 0.2707\n",
            "Epoch 3/3\n",
            "469/469 [==============================] - 6s 12ms/step - loss: 1.9418 - accuracy: 0.2756\n",
            "313/313 [==============================] - 0s 1ms/step\n",
            "Accuracy: 0.9046\n",
            "313/313 [==============================] - 1s 1ms/step - loss: 1.3554 - accuracy: 0.9046\n",
            "\n",
            "Running iteration 0\n",
            "Epoch 1/3\n",
            "469/469 [==============================] - 6s 13ms/step - loss: 1.9360 - accuracy: 0.2780\n",
            "Epoch 2/3\n",
            "469/469 [==============================] - 6s 12ms/step - loss: 1.9309 - accuracy: 0.2802\n",
            "Epoch 3/3\n",
            "469/469 [==============================] - 6s 12ms/step - loss: 1.9262 - accuracy: 0.2816\n",
            "313/313 [==============================] - 0s 1ms/step\n",
            "Accuracy: 0.9079\n",
            "313/313 [==============================] - 0s 1ms/step - loss: 1.4044 - accuracy: 0.9079\n",
            "Accuracy improved!\n",
            "Epoch 1/3\n",
            "469/469 [==============================] - 6s 13ms/step - loss: 1.9237 - accuracy: 0.2820\n",
            "Epoch 2/3\n",
            "469/469 [==============================] - 6s 13ms/step - loss: 1.9211 - accuracy: 0.2835\n",
            "Epoch 3/3\n",
            "469/469 [==============================] - 6s 13ms/step - loss: 1.9180 - accuracy: 0.2835\n",
            "313/313 [==============================] - 0s 1ms/step\n",
            "Accuracy: 0.9155\n",
            "313/313 [==============================] - 0s 1ms/step - loss: 1.4227 - accuracy: 0.9155\n",
            "Accuracy improved!\n",
            "Accuracy 2: 0.9154999852180481 > Accuracy 1: 0.9078999757766724\n",
            "\n",
            "Running iteration 0\n",
            "Epoch 1/3\n",
            "468/468 [==============================] - 6s 12ms/step - loss: 2.2028 - accuracy: 0.1268\n",
            "Epoch 2/3\n",
            "468/468 [==============================] - 6s 13ms/step - loss: 2.1829 - accuracy: 0.1340\n",
            "Epoch 3/3\n",
            "468/468 [==============================] - 6s 13ms/step - loss: 2.1807 - accuracy: 0.1370\n",
            "313/313 [==============================] - 1s 2ms/step\n",
            "Accuracy: 0.1859\n",
            "313/313 [==============================] - 1s 2ms/step - loss: 2.4477 - accuracy: 0.1859\n",
            "Epoch 1/3\n",
            "468/468 [==============================] - 6s 13ms/step - loss: 2.1789 - accuracy: 0.1378\n",
            "Epoch 2/3\n",
            "468/468 [==============================] - 7s 14ms/step - loss: 2.1778 - accuracy: 0.1419\n",
            "Epoch 3/3\n",
            "468/468 [==============================] - 7s 15ms/step - loss: 2.1772 - accuracy: 0.1438\n",
            "313/313 [==============================] - 0s 1ms/step\n",
            "Accuracy: 0.2245\n",
            "313/313 [==============================] - 1s 2ms/step - loss: 2.4147 - accuracy: 0.2245\n",
            "Accuracy 2: 0.22450000047683716 > Accuracy 1: 0.1859000027179718\n",
            "\n",
            "Running iteration 0\n",
            "Epoch 1/3\n",
            "468/468 [==============================] - 6s 13ms/step - loss: 2.1826 - accuracy: 0.1293\n",
            "Epoch 2/3\n",
            "468/468 [==============================] - 6s 13ms/step - loss: 2.1803 - accuracy: 0.1344\n",
            "Epoch 3/3\n",
            "160/468 [=========>....................] - ETA: 4s - loss: 2.1785 - accuracy: 0.1384\n",
            "pruned_indexes: {1: 1, 2: 2, 3: 3, 4: 4, 5: 5, 6: 6, 7: 7, 8: 8, 9: 9, 12: 12, 13: 13, 14: 14, 15: 15, 16: 16, 17: 17, 18: 18, 19: 19, 20: 20, 21: 21, 22: 22, 23: 23, 24: 24, 25: 25, 26: 26, 27: 27, 28: 28, 29: 29, 30: 30, 33: 33, 34: 34, 35: 35, 36: 36, 37: 37, 38: 38, 39: 39, 40: 40, 41: 41, 44: 44, 45: 45, 46: 46, 47: 47, 48: 48, 49: 49, 50: 50, 51: 51, 54: 54, 55: 55, 56: 56, 57: 57, 58: 58, 59: 59, 60: 60, 61: 61, 62: 62, 64: 64, 65: 65, 66: 66, 68: 68, 69: 69, 70: 70}\n"
          ]
        }
      ],
      "source": [
        "pruned_indexes = myPrunedSubsetMethod(x_train, y_train, model)\n",
        "print(f\"pruned_indexes: {pruned_indexes}\")"
      ]
    },
    {
      "cell_type": "code",
      "execution_count": null,
      "metadata": {},
      "outputs": [
        {
          "name": "stdout",
          "output_type": "stream",
          "text": [
            "{0: 0, 1: 1, 2: 2, 3: 3, 4: 4, 5: 5, 6: 6, 7: 7, 8: 8, 9: 9, 10: 10, 11: 11, 12: 12, 13: 13, 14: 14, 16: 16, 17: 17, 18: 18, 19: 19, 20: 20, 21: 21, 22: 22, 23: 23, 24: 24, 25: 25, 26: 26, 27: 27, 28: 28, 29: 29, 30: 30, 31: 31, 32: 32, 33: 33, 34: 34, 35: 35, 36: 36, 37: 37, 38: 38, 39: 39, 40: 40, 41: 41, 42: 42, 43: 43, 44: 44, 45: 45, 46: 46, 47: 47, 48: 48, 49: 49, 50: 50, 51: 51, 52: 52, 53: 53, 54: 54, 55: 55, 56: 56, 57: 57, 58: 58, 59: 59, 60: 60}\n",
            "{0: 0, 1: 1, 2: 2, 3: 3, 4: 4, 5: 5, 6: 6, 7: 7, 8: 8, 9: 9, 10: 10, 11: 11, 12: 12, 13: 13, 14: 14, 16: 16, 17: 17, 18: 18, 19: 19, 20: 20, 21: 21, 22: 22, 23: 23, 24: 24, 25: 25, 26: 26, 27: 27, 28: 28, 29: 29, 30: 30, 31: 31, 32: 32, 33: 33, 34: 34, 35: 35, 36: 36, 37: 37, 38: 38, 39: 39, 40: 40, 41: 41, 42: 42, 43: 43, 44: 44, 45: 45, 46: 46, 47: 47, 48: 48, 49: 49, 50: 50, 51: 51, 52: 52, 53: 53, 54: 54, 55: 55, 56: 56, 57: 57, 58: 58, 59: 59, 60: 60}\n",
            "{1: 1, 2: 2, 3: 3, 4: 4, 5: 5, 6: 6, 7: 7, 8: 8, 9: 9, 12: 12, 13: 13, 14: 14, 15: 15, 16: 16, 17: 17, 18: 18, 19: 19, 20: 20, 21: 21, 22: 22, 23: 23, 24: 24, 25: 25, 26: 26, 27: 27, 28: 28, 29: 29, 30: 30, 33: 33, 34: 34, 35: 35, 36: 36, 37: 37, 38: 38, 39: 39, 40: 40, 41: 41, 44: 44, 45: 45, 46: 46, 47: 47, 48: 48, 49: 49, 50: 50, 51: 51, 54: 54, 55: 55, 56: 56, 57: 57, 58: 58, 59: 59, 60: 60, 61: 61, 62: 62, 64: 64, 65: 65, 66: 66, 68: 68, 69: 69, 70: 70}\n",
            "{1: 1, 2: 2, 3: 3, 4: 4, 5: 5, 6: 6, 7: 7, 8: 8, 9: 9, 12: 12, 13: 13, 14: 14, 15: 15, 16: 16, 17: 17, 18: 18, 19: 19, 20: 20, 21: 21, 22: 22, 23: 23, 24: 24, 25: 25, 26: 26, 27: 27, 28: 28, 29: 29, 30: 30, 33: 33, 34: 34, 35: 35, 36: 36, 37: 37, 38: 38, 39: 39, 40: 40, 41: 41, 44: 44, 45: 45, 46: 46, 47: 47, 48: 48, 49: 49, 50: 50, 51: 51, 54: 54, 55: 55, 56: 56, 57: 57, 58: 58, 59: 59, 60: 60, 61: 61, 62: 62, 64: 64, 65: 65, 66: 66, 68: 68, 69: 69, 70: 70}\n"
          ]
        }
      ],
      "source": [
        "for node in root[\"Next States\"]:\n",
        "    print(node[\"Pruned\"])"
      ]
    },
    {
      "cell_type": "code",
      "execution_count": null,
      "metadata": {},
      "outputs": [
        {
          "name": "stdout",
          "output_type": "stream",
          "text": [
            "Epoch 1/3\n",
            "469/469 [==============================] - 6s 12ms/step - loss: 1.9965 - accuracy: 0.2354\n",
            "Epoch 2/3\n",
            "469/469 [==============================] - 6s 12ms/step - loss: 1.9426 - accuracy: 0.2698\n",
            "Epoch 3/3\n",
            "469/469 [==============================] - 6s 13ms/step - loss: 1.9342 - accuracy: 0.2758\n",
            "313/313 [==============================] - 0s 1ms/step\n",
            "Accuracy: 0.8947\n",
            "313/313 [==============================] - 0s 1ms/step - loss: 1.4137 - accuracy: 0.8947\n",
            "Accuracy: 0.8946999907493591\n",
            "Loss: 1.4137206077575684\n"
          ]
        }
      ],
      "source": [
        "loss, accuracy = trainAndEvaluateModel(x_train, y_train_onehot, x_test, y_test_onehot, model, pruned_indexes)\n",
        "print(f\"Accuracy: {accuracy}\")\n",
        "print(f\"Loss: {loss}\")"
      ]
    },
    {
      "cell_type": "code",
      "execution_count": null,
      "metadata": {},
      "outputs": [
        {
          "data": {
            "image/png": "[encoded data removed]",
            "text/plain": [
              "<Figure size 640x480 with 1 Axes>"
            ]
          },
          "metadata": {},
          "output_type": "display_data"
        }
      ],
      "source": [
        "import matplotlib.pyplot as plt\n",
        "import networkx as nx\n",
        "\n",
        "def add_nodes_and_edges(graph, parent_node):\n",
        "    decimal_points = 2\n",
        "    parent_state = parent_node[\"State\"]\n",
        "    for child in parent_node[\"Next States\"]:\n",
        "        child_state = child[\"State\"]\n",
        "        # Create a label with selected information\n",
        "        label = f\"{child_state}\\nAccuracy: {round(child['Accuracy'], decimal_points)}\\nLoss: {round(child['Loss'], decimal_points)}\"\n",
        "        graph.add_node(child_state, label=label)\n",
        "        graph.add_edge(parent_state, child_state)\n",
        "        add_nodes_and_edges(graph, child)\n",
        "\n",
        "def plot_tree(tree):\n",
        "    decimal_points = 2\n",
        "    G = nx.DiGraph()\n",
        "\n",
        "    # Add the root node\n",
        "    root_state = tree[\"State\"]\n",
        "    root_label = f\"{root_state}\\nAccuracy: {round(tree['Accuracy'], decimal_points)}\\nLoss: {round(tree['Loss'], decimal_points)}\"\n",
        "    G.add_node(root_state, label=root_label)\n",
        "\n",
        "    # Add children recursively\n",
        "    add_nodes_and_edges(G, tree)\n",
        "\n",
        "    # Draw the graph\n",
        "    pos = nx.spring_layout(G)\n",
        "    labels = nx.get_node_attributes(G, 'label')\n",
        "    nx.draw(G, pos, labels=labels, with_labels=True, node_color=\"skyblue\", node_size=3000, font_size=8, font_weight=\"bold\", arrows=True)\n",
        "    plt.show()\n",
        "    \n",
        "plot_tree(root)"
      ]
    }
  ],
  "metadata": {
    "colab": {
      "include_colab_link": true,
      "provenance": []
    },
    "kernelspec": {
      "display_name": "Python 3",
      "language": "python",
      "name": "python3"
    },
    "language_info": {
      "codemirror_mode": {
        "name": "ipython",
        "version": 3
      },
      "file_extension": ".py",
      "mimetype": "text/x-python",
      "name": "python",
      "nbconvert_exporter": "python",
      "pygments_lexer": "ipython3",
      "version": "3.10.12"
    }
  },
  "nbformat": 4,
  "nbformat_minor": 5
}
